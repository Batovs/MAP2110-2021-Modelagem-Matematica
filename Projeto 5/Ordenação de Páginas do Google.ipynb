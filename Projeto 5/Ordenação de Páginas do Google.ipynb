{
  "nbformat": 4,
  "nbformat_minor": 0,
  "metadata": {
    "colab": {
      "name": "MAP2110 - Projeto 5 - Ordenação de Páginas do Google",
      "provenance": [],
      "collapsed_sections": [],
      "include_colab_link": true
    },
    "kernelspec": {
      "name": "python3",
      "display_name": "Python 3"
    },
    "language_info": {
      "name": "python"
    }
  },
  "cells": [
    {
      "cell_type": "markdown",
      "metadata": {
        "id": "view-in-github",
        "colab_type": "text"
      },
      "source": [
        "<a href=\"https://colab.research.google.com/github/Batovs/MAP2110-2021-Modelagem-Matematica/blob/main/Projeto%205/Ordena%C3%A7%C3%A3o%20de%20P%C3%A1ginas%20do%20Google.ipynb\" target=\"_parent\"><img src=\"https://colab.research.google.com/assets/colab-badge.svg\" alt=\"Open In Colab\"/></a>"
      ]
    },
    {
      "cell_type": "code",
      "metadata": {
        "id": "5qUZZbvl5tGN"
      },
      "source": [
        "import numpy as np"
      ],
      "execution_count": null,
      "outputs": []
    },
    {
      "cell_type": "code",
      "metadata": {
        "id": "JWykauV_9yxL",
        "colab": {
          "base_uri": "https://localhost:8080/"
        },
        "outputId": "e37a3583-448f-4d1a-a2d9-7bc6a47062ce"
      },
      "source": [
        "A = np.array([[0, 0, 0, 0, 0, 0, 0, 1/2],\n",
        "             [1/2, 0, 0, 0, 0, 0, 0, 0],\n",
        "             [1/2, 1/2, 0, 0, 0, 0, 0, 1/2],\n",
        "             [0, 1/2, 0, 0, 0, 0, 0, 0],\n",
        "             [0, 0, 0, 1/2, 0, 0, 0, 0],\n",
        "             [0, 0, 1/2, 1/2, 1, 0, 0, 0],\n",
        "             [0, 0, 1/2, 0, 0, 1, 0, 0],\n",
        "             [0, 0, 0, 0, 0, 0, 1, 0]]              \n",
        "              )\n",
        "print(A)"
      ],
      "execution_count": null,
      "outputs": [
        {
          "output_type": "stream",
          "text": [
            "[[0.  0.  0.  0.  0.  0.  0.  0.5]\n",
            " [0.5 0.  0.  0.  0.  0.  0.  0. ]\n",
            " [0.5 0.5 0.  0.  0.  0.  0.  0.5]\n",
            " [0.  0.5 0.  0.  0.  0.  0.  0. ]\n",
            " [0.  0.  0.  0.5 0.  0.  0.  0. ]\n",
            " [0.  0.  0.5 0.5 1.  0.  0.  0. ]\n",
            " [0.  0.  0.5 0.  0.  1.  0.  0. ]\n",
            " [0.  0.  0.  0.  0.  0.  1.  0. ]]\n"
          ],
          "name": "stdout"
        }
      ]
    },
    {
      "cell_type": "code",
      "metadata": {
        "id": "y9oQtkmtoCCB"
      },
      "source": [
        "n = A.shape[1]\n",
        "S = np.full((n,n),(1/n))\n",
        "m = 0.15"
      ],
      "execution_count": null,
      "outputs": []
    },
    {
      "cell_type": "code",
      "metadata": {
        "colab": {
          "base_uri": "https://localhost:8080/"
        },
        "id": "u71f9dYN-2KA",
        "outputId": "65d4d367-ecc3-4046-aab5-ecd90730f780"
      },
      "source": [
        "n"
      ],
      "execution_count": null,
      "outputs": [
        {
          "output_type": "execute_result",
          "data": {
            "text/plain": [
              "8"
            ]
          },
          "metadata": {
            "tags": []
          },
          "execution_count": 5
        }
      ]
    },
    {
      "cell_type": "code",
      "metadata": {
        "colab": {
          "base_uri": "https://localhost:8080/"
        },
        "id": "veycrvII-wdX",
        "outputId": "25f55758-6cb1-40f4-efe2-d7adc712dcbb"
      },
      "source": [
        "S"
      ],
      "execution_count": null,
      "outputs": [
        {
          "output_type": "execute_result",
          "data": {
            "text/plain": [
              "array([[0.125, 0.125, 0.125, 0.125, 0.125, 0.125, 0.125, 0.125],\n",
              "       [0.125, 0.125, 0.125, 0.125, 0.125, 0.125, 0.125, 0.125],\n",
              "       [0.125, 0.125, 0.125, 0.125, 0.125, 0.125, 0.125, 0.125],\n",
              "       [0.125, 0.125, 0.125, 0.125, 0.125, 0.125, 0.125, 0.125],\n",
              "       [0.125, 0.125, 0.125, 0.125, 0.125, 0.125, 0.125, 0.125],\n",
              "       [0.125, 0.125, 0.125, 0.125, 0.125, 0.125, 0.125, 0.125],\n",
              "       [0.125, 0.125, 0.125, 0.125, 0.125, 0.125, 0.125, 0.125],\n",
              "       [0.125, 0.125, 0.125, 0.125, 0.125, 0.125, 0.125, 0.125]])"
            ]
          },
          "metadata": {
            "tags": []
          },
          "execution_count": 4
        }
      ]
    },
    {
      "cell_type": "code",
      "metadata": {
        "colab": {
          "base_uri": "https://localhost:8080/"
        },
        "id": "JZxGNuGF_Yw0",
        "outputId": "be1e4f97-58e6-4a4e-fdcd-e3550bfc0f9b"
      },
      "source": [
        "M = (1-m)*A + m*S\n",
        "print(M)"
      ],
      "execution_count": null,
      "outputs": [
        {
          "output_type": "stream",
          "text": [
            "[[0.01875 0.01875 0.01875 0.01875 0.01875 0.01875 0.01875 0.44375]\n",
            " [0.44375 0.01875 0.01875 0.01875 0.01875 0.01875 0.01875 0.01875]\n",
            " [0.44375 0.44375 0.01875 0.01875 0.01875 0.01875 0.01875 0.44375]\n",
            " [0.01875 0.44375 0.01875 0.01875 0.01875 0.01875 0.01875 0.01875]\n",
            " [0.01875 0.01875 0.01875 0.44375 0.01875 0.01875 0.01875 0.01875]\n",
            " [0.01875 0.01875 0.44375 0.44375 0.86875 0.01875 0.01875 0.01875]\n",
            " [0.01875 0.01875 0.44375 0.01875 0.01875 0.86875 0.01875 0.01875]\n",
            " [0.01875 0.01875 0.01875 0.01875 0.01875 0.01875 0.86875 0.01875]]\n"
          ],
          "name": "stdout"
        }
      ]
    },
    {
      "cell_type": "code",
      "metadata": {
        "id": "IrhPbjMt_E5V"
      },
      "source": [
        "def calculo_c(M):\n",
        "  #minimo de cada coluna\n",
        "  min_col = np.amin(M, axis=1)\n",
        "  c = max(abs(1-2*min_col))\n",
        "  return c\n"
      ],
      "execution_count": null,
      "outputs": []
    },
    {
      "cell_type": "code",
      "metadata": {
        "id": "2jvaoo0cNfT1"
      },
      "source": [
        "def MetodoPotencias(M,x0,k=50):\n",
        "  x1 = M @ x0\n",
        "  for i in range(k-1):\n",
        "    x1 = M @ x1\n",
        "  return x1"
      ],
      "execution_count": null,
      "outputs": []
    },
    {
      "cell_type": "code",
      "metadata": {
        "id": "x_9EiBcHOk06"
      },
      "source": [
        "def OrdenaPaginas(A, x0, m=0.15, erro=1e-5):\n",
        "  n = A.shape[1] #matriz de ligação NxN\n",
        "  S = np.full((n,n),(1/n))\n",
        "  M = (1-m)*A + m*S\n",
        "  e = erro + 1 #erro inicial para entrar no loop\n",
        "  cnt = 0 #contador inicial\n",
        "  c = calculo_c(M)\n",
        "  xk_1 = x0 \n",
        "\n",
        "  while e >= erro:\n",
        "    xk = M @ xk_1\n",
        "    e = (c/(1-c))*np.linalg.norm(xk - xk_1)\n",
        "    xk_1 = xk \n",
        "    cnt += 1\n",
        "  \n",
        "  print(f'c = {c}')\n",
        "  print(f'Vetor dos pesos normalizado:\\n{xk}\\nApós {cnt} iterações ', end='')\n",
        "  print(f'com erro menor que {erro}')\n"
      ],
      "execution_count": null,
      "outputs": []
    },
    {
      "cell_type": "code",
      "metadata": {
        "colab": {
          "base_uri": "https://localhost:8080/"
        },
        "id": "WZrLwD5bOs2Q",
        "outputId": "10a15cac-5887-4b8f-b2fa-e216c18486a9"
      },
      "source": [
        "n = A.shape[1]\n",
        "x0 = np.full((n,1),(1/n))\n",
        "OrdenaPaginas(A, x0, m=0.15, erro=1e-5)"
      ],
      "execution_count": null,
      "outputs": [
        {
          "output_type": "stream",
          "text": [
            "c = 0.9625\n",
            "Vetor dos pesos normalizado:\n",
            "[[0.10564275]\n",
            " [0.06364814]\n",
            " [0.17759131]\n",
            " [0.04580041]\n",
            " [0.03821521]\n",
            " [0.14617444]\n",
            " [0.21847447]\n",
            " [0.20445326]]\n",
            "Após 26 iterações com erro menor que 1e-05\n"
          ],
          "name": "stdout"
        }
      ]
    },
    {
      "cell_type": "code",
      "metadata": {
        "id": "_jhJu5ja-asB"
      },
      "source": [
        ""
      ],
      "execution_count": null,
      "outputs": []
    },
    {
      "cell_type": "markdown",
      "metadata": {
        "id": "95APBV3B4gI8"
      },
      "source": [
        "Resolução Intro"
      ]
    },
    {
      "cell_type": "code",
      "metadata": {
        "colab": {
          "base_uri": "https://localhost:8080/"
        },
        "id": "wABYDN3emkIo",
        "outputId": "b7062cb0-0190-48b2-9ecd-c56217314ebe"
      },
      "source": [
        "#Resolução Intro\n",
        "A_intro = np.array([[0, 0, 1, 1/2],\n",
        "                    [1/3, 0, 0, 0],\n",
        "                    [1/3, 1/2, 0, 1/2],\n",
        "                    [1/3, 1/2, 0, 0]])\n",
        "n = A_intro.shape[1]\n",
        "x0 = np.full((n,1),(1/n))\n",
        "MetodoPotencias(A_intro, x0).round(3)"
      ],
      "execution_count": null,
      "outputs": [
        {
          "output_type": "execute_result",
          "data": {
            "text/plain": [
              "array([[0.387],\n",
              "       [0.129],\n",
              "       [0.29 ],\n",
              "       [0.194]])"
            ]
          },
          "metadata": {
            "tags": []
          },
          "execution_count": 86
        }
      ]
    },
    {
      "cell_type": "markdown",
      "metadata": {
        "id": "8oYvDER3GiIO"
      },
      "source": [
        "Exemplos livro Anton"
      ]
    },
    {
      "cell_type": "code",
      "metadata": {
        "id": "McH2Hl9UbndM"
      },
      "source": [
        "A = np.array([[0, 0, 1, 1],\n",
        "              [1, 0, 0, 0], \n",
        "              [1, 0, 0, 1], \n",
        "              [1, 1, 1, 0]])\n",
        "h0 = []\n",
        "for i in range (A.shape[1]):\n",
        "  h0.append(A[i].sum())\n",
        "h0 = np.array(h0)\n",
        "h0 = np.atleast_2d(h0).T\n",
        "a0 = []\n",
        "for i in range (A.shape[1]):\n",
        "  a0.append(A.T[i].sum())\n",
        "a0 = np.array(a0)\n",
        "a0 = np.atleast_2d(a0).T"
      ],
      "execution_count": null,
      "outputs": []
    },
    {
      "cell_type": "code",
      "metadata": {
        "colab": {
          "base_uri": "https://localhost:8080/"
        },
        "id": "0DdQO0pFb4lh",
        "outputId": "b412204e-8129-404d-eec7-ed65fa20212a"
      },
      "source": [
        "Aa0 = A @ a0\n",
        "Aa0"
      ],
      "execution_count": null,
      "outputs": [
        {
          "output_type": "execute_result",
          "data": {
            "text/plain": [
              "array([[4],\n",
              "       [3],\n",
              "       [5],\n",
              "       [6]])"
            ]
          },
          "metadata": {
            "tags": []
          },
          "execution_count": 27
        }
      ]
    },
    {
      "cell_type": "code",
      "metadata": {
        "colab": {
          "base_uri": "https://localhost:8080/"
        },
        "id": "_2uADILucBH3",
        "outputId": "1c228257-b529-4c00-8a54-314dc8663748"
      },
      "source": [
        "h1 = Aa0/np.linalg.norm(Aa0)\n",
        "h1"
      ],
      "execution_count": null,
      "outputs": [
        {
          "output_type": "execute_result",
          "data": {
            "text/plain": [
              "array([[0.43133109],\n",
              "       [0.32349832],\n",
              "       [0.53916387],\n",
              "       [0.64699664]])"
            ]
          },
          "metadata": {
            "tags": []
          },
          "execution_count": 28
        }
      ]
    },
    {
      "cell_type": "code",
      "metadata": {
        "colab": {
          "base_uri": "https://localhost:8080/"
        },
        "id": "wrIYntpjeXG8",
        "outputId": "d96c08c0-689e-4a9f-c4d0-849d7ac62d4f"
      },
      "source": [
        "a1 = A.T @ h1/np.linalg.norm(A.T @ h1)\n",
        "a1"
      ],
      "execution_count": null,
      "outputs": [
        {
          "output_type": "execute_result",
          "data": {
            "text/plain": [
              "array([[0.68889496],\n",
              "       [0.2952407 ],\n",
              "       [0.49206783],\n",
              "       [0.44286105]])"
            ]
          },
          "metadata": {
            "tags": []
          },
          "execution_count": 29
        }
      ]
    },
    {
      "cell_type": "code",
      "metadata": {
        "id": "bBsp-ScTevhs"
      },
      "source": [
        "def VetorAutoridadeInicial(A):\n",
        "  a0 = []\n",
        "  for i in range (A.shape[1]):\n",
        "    a0.append(A.T[i].sum())\n",
        "  a0 = np.array(a0)\n",
        "  a0 = np.atleast_2d(a0).T\n",
        "  return a0"
      ],
      "execution_count": null,
      "outputs": []
    },
    {
      "cell_type": "code",
      "metadata": {
        "id": "7EcYvG2KfuyX"
      },
      "source": [
        "def VetorCentroInicial(A):\n",
        "  h0 = []\n",
        "  for i in range (A.shape[1]):\n",
        "    h0.append(A[i].sum())\n",
        "  h0 = np.array(h0)\n",
        "  h0 = np.atleast_2d(h0).T\n",
        "  return h0"
      ],
      "execution_count": null,
      "outputs": []
    },
    {
      "cell_type": "code",
      "metadata": {
        "id": "-WkeP6mcgFGe"
      },
      "source": [
        "def ak (A, a0, k):\n",
        "  ak = a0\n",
        "  for i in range(k):\n",
        "    ak = ((A.T @ A) @ ak)/np.linalg.norm((A.T @ A) @ ak)\n",
        "  return ak\n"
      ],
      "execution_count": null,
      "outputs": []
    },
    {
      "cell_type": "code",
      "metadata": {
        "id": "QXcKdPVkh_te"
      },
      "source": [
        "def hk (A, a0, k):\n",
        "  h1 = A @ a0/np.linalg.norm(A @ a0) #Vetor inicial h0\n",
        "  if k == 1:\n",
        "    return h1\n",
        "  hk = h1 #Valor de h para \n",
        "  for i in range(k-1):\n",
        "    hk = ((A @ A.T) @ hk)/np.linalg.norm((A @ A.T) @ hk)\n",
        "  return hk"
      ],
      "execution_count": null,
      "outputs": []
    },
    {
      "cell_type": "code",
      "metadata": {
        "colab": {
          "base_uri": "https://localhost:8080/"
        },
        "id": "ErKdfPZ1hav1",
        "outputId": "04b534ad-82e5-4a42-fc65-d24efafd3bc7"
      },
      "source": [
        "a0 = VetorAutoridadeInicial(A)\n",
        "hk(A, a0, 2)\n"
      ],
      "execution_count": null,
      "outputs": [
        {
          "output_type": "execute_result",
          "data": {
            "text/plain": [
              "array([[0.42634775],\n",
              "       [0.31415098],\n",
              "       [0.51610518],\n",
              "       [0.67318066]])"
            ]
          },
          "metadata": {
            "tags": []
          },
          "execution_count": 34
        }
      ]
    },
    {
      "cell_type": "markdown",
      "metadata": {
        "id": "5HXyRjIGkqko"
      },
      "source": [
        "Exemplo 3 Anton"
      ]
    },
    {
      "cell_type": "code",
      "metadata": {
        "id": "t42PoEVlkunO"
      },
      "source": [
        "A_exemplo3 = np.array([[0, 1, 0, 0, 1, 0, 0, 1, 0, 0],\n",
        "                       [0, 0, 0, 0, 1, 0, 0, 0, 0, 0],\n",
        "                       [0, 0, 0, 0, 1, 0, 0, 0, 0, 0],\n",
        "                       [0, 0, 0, 0, 0, 1, 1, 0, 0, 0],\n",
        "                       [0, 0, 0, 0, 0, 0, 0, 1, 0, 0],\n",
        "                       [0, 1, 1, 1, 1, 0, 0, 1, 0, 1],\n",
        "                       [0, 0, 0, 0, 0, 0, 0, 0, 0, 1],\n",
        "                       [0, 0, 0, 0, 1, 0, 0, 0, 0, 0],\n",
        "                       [0, 0, 0, 0, 0, 1, 0, 0, 0, 0],\n",
        "                       [0, 0, 0, 0, 0, 1, 0, 0, 0, 0],    \n",
        "                       ])"
      ],
      "execution_count": null,
      "outputs": []
    },
    {
      "cell_type": "code",
      "metadata": {
        "colab": {
          "base_uri": "https://localhost:8080/"
        },
        "id": "f9nk_BLhlD0m",
        "outputId": "ab19ad80-d6c9-4d1c-f351-7603d5b48bab"
      },
      "source": [
        "a0_ex3 = VetorAutoridadeInicial(A_exemplo3)\n",
        "ak(A_exemplo3, a0_ex3, 7)"
      ],
      "execution_count": null,
      "outputs": [
        {
          "output_type": "execute_result",
          "data": {
            "text/plain": [
              "array([[0.00000000e+00],\n",
              "       [4.19893150e-01],\n",
              "       [2.53361889e-01],\n",
              "       [2.53361889e-01],\n",
              "       [6.25988070e-01],\n",
              "       [4.67478485e-04],\n",
              "       [1.93635758e-04],\n",
              "       [4.71649099e-01],\n",
              "       [0.00000000e+00],\n",
              "       [2.84589274e-01]])"
            ]
          },
          "metadata": {
            "tags": []
          },
          "execution_count": 36
        }
      ]
    },
    {
      "cell_type": "code",
      "metadata": {
        "id": "m3lq-doYBXLm"
      },
      "source": [
        "import numpy as np"
      ],
      "execution_count": null,
      "outputs": []
    },
    {
      "cell_type": "code",
      "metadata": {
        "colab": {
          "base_uri": "https://localhost:8080/"
        },
        "id": "LF0ufPRsBY_W",
        "outputId": "4713fb65-9abf-4290-93f6-deb9a7fe8ced"
      },
      "source": [
        "np.linalg.eig([[1,1],[1,2]])"
      ],
      "execution_count": null,
      "outputs": [
        {
          "output_type": "execute_result",
          "data": {
            "text/plain": [
              "(array([0.38196601, 2.61803399]), array([[-0.85065081, -0.52573111],\n",
              "        [ 0.52573111, -0.85065081]]))"
            ]
          },
          "metadata": {
            "tags": []
          },
          "execution_count": 8
        }
      ]
    }
  ]
}