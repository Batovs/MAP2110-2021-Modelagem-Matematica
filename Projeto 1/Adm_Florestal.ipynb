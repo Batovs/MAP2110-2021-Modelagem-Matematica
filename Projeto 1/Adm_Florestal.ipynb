{
  "nbformat": 4,
  "nbformat_minor": 0,
  "metadata": {
    "language_info": {
      "name": "python",
      "version": "3.7.10",
      "mimetype": "text/x-python",
      "codemirror_mode": {
        "name": "ipython",
        "version": 3
      },
      "pygments_lexer": "ipython3",
      "nbconvert_exporter": "python",
      "file_extension": ".py"
    },
    "kernelspec": {
      "language": "python",
      "display_name": "Python 3",
      "name": "python3"
    },
    "colab": {
      "name": "MAP2110 - Projeto 1 - Adm Florestal",
      "provenance": [],
      "collapsed_sections": [],
      "include_colab_link": true
    }
  },
  "cells": [
    {
      "cell_type": "markdown",
      "metadata": {
        "id": "view-in-github",
        "colab_type": "text"
      },
      "source": [
        "<a href=\"https://colab.research.google.com/github/Batovs/MAP2110-2021-Modelagem-Matematica/blob/main/Projeto%201/Adm_Florestal.ipynb\" target=\"_parent\"><img src=\"https://colab.research.google.com/assets/colab-badge.svg\" alt=\"Open In Colab\"/></a>"
      ]
    },
    {
      "cell_type": "markdown",
      "metadata": {
        "id": "9gsbdMYadTwc"
      },
      "source": [
        "#Exercício 1"
      ]
    },
    {
      "cell_type": "markdown",
      "metadata": {
        "id": "oaViFwLKdYSg"
      },
      "source": [
        "  Para termos uma colheita sustentável, a configuração final da floresta( após o corte e plantio das mudas) deve ser igual à configuração inicial (floresta antes do crescimento).<br>\n",
        "  Como, no nosso modelo, o número  de árvores é constante e igual a s, podemos descrever a configuração inicial da floresta como sendo um vetor coluna $\\mathrm{x}$, chamado de vetor de não cortadas. $\\;\\;\\;$\n",
        "$\\mathrm{x} = \n",
        "  \\begin{bmatrix}\n",
        "  x_1 \\\\\n",
        "  x_2 \\\\\n",
        "  \\vdots  \\\\\n",
        "  x_n \n",
        "\\end{bmatrix}\\;$\n",
        "onde $\\mathrm{x_i}$ representa a quantidade de árvores da classe i (sendo que as árvores são classificadas pelo intervalo de altura a que pertencem e a classe 1 corresponde a mudas sem valor comercial) e $\\mathrm{s=\\sum\\limits_{i=1}^{n}x_i}$.\n",
        " \n",
        "Após cada colheita, as árvores passam por um período de crescimento, onde uma fração $\\mathrm{g_i}$ das árvores de cada classe i sobe para a classe i+1, obtendo-se assim a configuração pré-corte.\n",
        " \n",
        "O número de árvores em cada classe i, na configuração pré-corte, é igual à soma entre o número de árvores da classe i-1 que cresceram ($\\mathrm{g_{i-1}\\cdot x_{i-1}}$) e o número de árvores da classe i que não cresceram ($\\mathrm{(1-g_{i})\\cdot x_i}$), com exceção da classe 1, onde restarão apenas as mudas que não cresceram, e da classe n onde apenas serão somadas as árvores que cresceram da classe n-1. Assim obtemos o vetor da configuração pré-corte:\n",
        "$\\;\\;\\;$\n",
        "$\\mathrm{Z} = \n",
        "  \\begin{bmatrix}\n",
        "  x_1 \\cdot (1-g_1) \\\\\n",
        "  x_2 \\cdot (1-g_2) + x_1 \\cdot g_1\\\\\n",
        "  \\vdots  \\\\\n",
        "  x_n + x_{n-1} \\cdot g_{n-1}\n",
        "\\end{bmatrix}\\;$ \n",
        " \n",
        "No entanto, convém escrever o vetor pré-corte como o o produto entre uma \"matriz de crescimento\" (G) e o vetor x, sendo que: $\\:$\n",
        "$\\mathrm{G} = \\begin{bmatrix}\n",
        "  1-g_1 & 0 & 0 & & \\cdots & 0 \\\\\n",
        "  g_1 & 1-g_2 & 0 & & \\cdots & 0 \\\\\n",
        "  0 & g_2 & 1-g_3 & & \\cdots & 0 \\\\\n",
        "  \\vdots  & \\vdots  & \\vdots & & \\vdots &\\vdots \\\\\n",
        "  0 & 0 & 0 & \\cdots & 1-g_{n-1} & 0 \\\\\n",
        "  0 & 0 & 0 & \\cdots & g_{n-1} & 1\n",
        " \\end{bmatrix}$\n",
        " \n",
        " O vetor de árvores cortadas é dado por $\\mathrm{y}$. $\\;\\;\\;$\n",
        "$\\mathrm{y} = \n",
        "  \\begin{bmatrix}\n",
        "  y_1 \\\\\n",
        "  y_2 \\\\\n",
        "  \\vdots  \\\\\n",
        "  y_n \n",
        "\\end{bmatrix}\\;$ onde cada $\\mathrm{y_i}$representa a quantidade de árvores cortadas na classe i.\n",
        " \n",
        "Para que haja uma colheita sustentável,  será plantado um número de mudas igual ao número de árvores retiradas.\n",
        " \n",
        "Assim,sabemos que o vetor reposição a ser somado ao vetor pré-corte ($\\mathrm{G \\cdot x}$) e ao vetor -y para se obter o vetor x deve possuir um valor igual à soma do número de árvores cortadas em todas as classes (exceto da classe 1, composta por mudas sem valor comercial) em sua primeira linha:\n",
        " \n",
        "$\\mathrm{F} =\n",
        "  \\begin{bmatrix}\n",
        "  \\sum\\limits_{i=2}^{n}y_i \\\\  0 \\\\\n",
        "  \\vdots  \\\\\n",
        "  0 \n",
        "  \\end{bmatrix}$ \n",
        " \n",
        "Portanto podemos definir uma matriz de reposição $\\mathrm{R}$, de ordem n, como sendo a matriz que faz real a igualdade $F=R\\cdot y$.\n",
        "$\\;$\n",
        "$\\mathrm{R} = \n",
        " \\begin{bmatrix}\n",
        "  1 & 1 & \\cdots & 1 \\\\\n",
        "  0 & 0 & \\cdots & 0 \\\\\n",
        "  \\vdots  & \\vdots  &  & \\vdots  \\\\\n",
        "  0 & 0 & \\cdots & 0 \n",
        " \\end{bmatrix}$\n",
        " \n",
        "<br><br>\n",
        "  Com todas as variáveis do modelo podemos escrever matematicamente a equação que caracteriza uma política de corte sustentável.\n",
        " \n",
        "$$\\mathrm{Gx} - \\mathrm{y} + \\mathrm{Ry} = \\mathrm{x} $$ \n",
        " \n",
        "ou também reescrita como \n",
        "\\begin{equation} \n",
        "    \\mathrm{(I - R)y = (G-I)x} \n",
        "\\end{equation}\n",
        " \n",
        "  onde $\\mathrm{G}$ e $\\mathrm {R}$ e a matriz identidade $\\mathrm {I}$ possuem dimensões $n \\times n$, $\\: \\mathrm {x}$ e $\\mathrm {y}$ são matrizes coluna com dimensão $n \\times 1$, sendo $n$ o número de classes de árvores da floresta.\n",
        "<br><br>\n",
        "como $y_1 > 0$ representaria o corte de mudas, sem valor econômico e reposição por novas mudas, então deduzimos que:<br><br>\n",
        "\\begin{equation}\n",
        "    y_1 = 0\n",
        "\\end{equation}\n",
        " \n",
        "Com o resultado de (2), equação (1) pode ser escrita como um conjunto de equações da seguinte maneira:\n",
        "\\begin{equation}\\label{igualdades_sustentaveis}\n",
        "\\begin {matrix}\n",
        "    y_2 + y_3 + \\cdots + y_n & = & g_1 x_1 \\\\ \n",
        "    y_2 & = &g_1 x_1 - g_2 x_2 \\\\\n",
        "    y_3 & = &g_2 x_2 - g_3 x_3 \\\\\n",
        "    & \\vdots &  \\\\\n",
        "    y_{n-1} & = &g_{n-2} x_{n-2} - g_{n-1} x_{n-1} \\\\\n",
        "    y_n & = & g_{n-1} x_{n-1}\n",
        "    \\end {matrix}\n",
        "\\end{equation}\n",
        " \n",
        "nesse sistema temos que a primeira equação é a soma das demais, pois os valores de $g_n, x_n\\: $e $\\:y_n$ são positivos, então as equações em (3) exigem que:\n",
        " \n",
        "\\begin{equation}\\label{desigualdades_sustentaveis}\n",
        "    g_1x_1 \\geq g_2x_2 \\geq \\cdots \\geq g_{n-1}x_{n-1} \\geq 0\n",
        "\\end{equation}\n",
        " \n",
        "Portanto, para termos uma colheita sustentável, $\\mathrm{x} \\: e \\: \\mathrm {y} \\: $devem satisfazer a equação (1) e as entradas do vetor coluna $\\mathrm {x}$ devem satisfazer à inequação (4), para que a floresta tenha uma configuração tal qual permita um corte sustentável."
      ]
    },
    {
      "cell_type": "code",
      "metadata": {
        "id": "7CSp3Kh97c3w"
      },
      "source": [
        "def EhSustentavel(n,X,G,Y): \n",
        "  #Valores de entrada, n valor inteiro; X,G e Y, vetores\n",
        "  import numpy as np\n",
        "  \n",
        "  #Tratando as entradas e criando a matriz identidade\n",
        "  I = np.identity(n) #Matriz identidade n x n\n",
        "  G_n_mais1 = G.copy()\n",
        "  G_n_mais1.append(0) #vetor G com n+1 para gerar a matriz G n x n\n",
        "  G = np.array(G)\n",
        "  Gmc = np.atleast_2d(G).T #transforma o vetor G em matriz coluna\n",
        "  X = np.array(X)\n",
        "  Xmc = np.atleast_2d(X).T #transforma o vetor X em matriz coluna\n",
        "  Y = np.array(Y)\n",
        "  Ymc = np.atleast_2d(Y).T #transforma o vetor Y em matriz coluna\n",
        "\n",
        "  #Matriz G n x n vinha do vertor G n-1\n",
        "  GMatriz = I-(G_n_mais1*I)\n",
        "  for i in range (n-1):\n",
        "    GMatriz [i+1,i]=Gmc[i,0]\n",
        "  GMatriz [n-1,n-1] = 1\n",
        "\n",
        "  #Matriz R\n",
        "  R = np.zeros((n,n))\n",
        "  for i in range (n):\n",
        "    R[0,i] = 1\n",
        "\n",
        "  #Vetor GX para comparação\n",
        "  GX = [] \n",
        "  for i in range (n-2,-1,-1):\n",
        "    GX.append(G[i]*X[i])\n",
        "  GX = np.array (GX) #array com valores de g de n * x de n do último para o primeiro\n",
        "  \n",
        "  \n",
        "  #Operações colheita sustentável para comparação posterior\n",
        "  valor1 =(I-R).dot(Ymc)\n",
        "  valor2 = (GMatriz-I).dot(Xmc)\n",
        "\n",
        "  #Condições Para Colheita sustentável\n",
        "  if Y[0] != 0: return False #Se o primeiro valor de Y for 0 retorna False\n",
        "  elif GX[0] < 0: return False\n",
        "  elif np.all(np.diff(GX) > 0) == False: return False # retorna False se não for g1x1>g2x2>...\n",
        "  elif (valor1.round()  == valor2.round()).all() == False: return False #Retorna falso se a floresta não se manter igual após a colheita\n",
        "  else: return True\n",
        "\n"
      ],
      "execution_count": null,
      "outputs": []
    },
    {
      "cell_type": "code",
      "metadata": {
        "id": "dWKGaHituz4v"
      },
      "source": [
        "def ValoresY (g,x):\n",
        "  y = [0]#primeiro valor sempre 0\n",
        "  n = len(x)\n",
        "\n",
        "  for i in range (1,n-1):\n",
        "    y.append((g[i-1]*x[i-1])-(g[i]*x[i]))\n",
        "    y[i]=round(y[i])#arrendondar os valores \n",
        "  y.append(g[-1]*x[-2])# yn = gn-1*xn-1\n",
        "  y[-1]=round(y[-1])\n",
        "  return y"
      ],
      "execution_count": null,
      "outputs": []
    },
    {
      "cell_type": "code",
      "metadata": {
        "colab": {
          "base_uri": "https://localhost:8080/"
        },
        "id": "FfPpB6I8vaYr",
        "outputId": "53716074-05d6-43e6-e774-e1720c3e69ca"
      },
      "source": [
        "n = 6\n",
        "x = [400,300,200,100,0,0]\n",
        "g = [0.28, 0.31, 0.25, 0.23, 0.37]\n",
        "y = ValoresY(g,x)\n",
        "\n",
        "print(y)\n",
        "print(EhSustentavel (n,x,g,y)) #Vetor Y sustentavel\n",
        "print(EhSustentavel (n,x,g,[0,20,40,29,23,0])) #Vetor Y qualquer\n"
      ],
      "execution_count": null,
      "outputs": [
        {
          "output_type": "stream",
          "text": [
            "[0, 19, 43, 27, 23, 0]\n",
            "True\n",
            "False\n"
          ],
          "name": "stdout"
        }
      ]
    },
    {
      "cell_type": "markdown",
      "metadata": {
        "id": "UZ0YGE_OkLeN"
      },
      "source": [
        "# Exercicio 3"
      ]
    },
    {
      "cell_type": "code",
      "metadata": {
        "trusted": true,
        "id": "Nt9g0emMkLeQ"
      },
      "source": [
        "def retorno_otimo(n, s, p, g):\n",
        "  retornos = []\n",
        "  for i in range(n-1):\n",
        "    soma_inversos_g = 0\n",
        "    for j in range(i+1):\n",
        "      soma_inversos_g = soma_inversos_g + 1/g[j]\n",
        "    r = p[i]*s / soma_inversos_g\n",
        "    retornos.append(round(r, 2))\n",
        "  return (retornos, max(retornos), 2+retornos.index(max(retornos)))"
      ],
      "execution_count": null,
      "outputs": []
    },
    {
      "cell_type": "markdown",
      "metadata": {
        "id": "HhkgDju7kLeS"
      },
      "source": [
        "# Exercicio 5"
      ]
    },
    {
      "cell_type": "code",
      "metadata": {
        "trusted": true,
        "colab": {
          "base_uri": "https://localhost:8080/"
        },
        "id": "khLm-SlwkLeT",
        "outputId": "4d733806-21cf-4c93-fbe8-ce8b0e73b01d"
      },
      "source": [
        "g = [0.28, 0.31, 0.25, 0.23, 0.37]\n",
        "precos = [50, 100, 150, 200, 250]\n",
        "classes = 6\n",
        "s = 1000 #valor arbitrário\n",
        "\n",
        "vetor_retornos, retorno_otimo_exercicio_5, classe_otima = retorno_otimo(classes, s, precos, g)\n",
        "print(\"Vetor de retornos: \", vetor_retornos)\n",
        "print(\"Retorno ótimo: \", retorno_otimo_exercicio_5)\n",
        "print(\"Classe a ser Cortada: \", classe_otima)"
      ],
      "execution_count": null,
      "outputs": [
        {
          "output_type": "stream",
          "text": [
            "Vetor de retornos:  [14000.0, 14711.86, 13892.45, 13205.63, 14007.36]\n",
            "Retorno ótimo:  14711.86\n",
            "Classe a ser Cortada:  3\n"
          ],
          "name": "stdout"
        }
      ]
    },
    {
      "cell_type": "markdown",
      "metadata": {
        "id": "oHW3T0sPkLeV"
      },
      "source": [
        "# Exercício 6\n",
        "### Admitindo-se uma precisão de 3 casas decimais(talvez irrealista para a variável preço), testa-se o algoritmo para varolores superiores a 200 reais, até que a quinta classe seja a mais vantajosa a ser cortada:"
      ]
    },
    {
      "cell_type": "code",
      "metadata": {
        "trusted": true,
        "colab": {
          "base_uri": "https://localhost:8080/"
        },
        "id": "p9j9FOy_kLeW",
        "outputId": "68e70df7-4f3b-4873-f4e5-40c37ff3f560"
      },
      "source": [
        "# Lembrando que a classe 5 tem indice 3 no vetor\n",
        "classe_otima = -1\n",
        "while classe_otima != 5:\n",
        "  precos[3] = precos[3] + 0.001\n",
        "  __, retorno_otimo_exercicio_6, classe_otima = retorno_otimo(classes, s, precos, g)\n",
        "print(\"Preço das árvores pertencentes a 5 classe para que seja esta a ser retidara:\", round(precos[3], 3))\n",
        "print(\"Dando um retorno de: \", retorno_otimo_exercicio_6)"
      ],
      "execution_count": null,
      "outputs": [
        {
          "output_type": "stream",
          "text": [
            "Preço das árvores pertencentes a 5 classe para que seja esta a ser retidara: 222.813\n",
            "Dando um retorno de:  14711.92\n"
          ],
          "name": "stdout"
        }
      ]
    },
    {
      "cell_type": "markdown",
      "metadata": {
        "id": "unLE4Ko1kLeY"
      },
      "source": [
        "# Exercicio 7\n",
        "### Gerenelizando o Exercicio 6, aumenta-se o preco de cada classe gradativamente, até que todas tenham retornos parecidos:"
      ]
    },
    {
      "cell_type": "code",
      "metadata": {
        "colab": {
          "base_uri": "https://localhost:8080/"
        },
        "id": "9Eg40YbPkLeZ",
        "outputId": "a090f01a-d4db-4013-db44-eacf687f815c"
      },
      "source": [
        "retornos_otimos = []\n",
        "precos_otimos = []\n",
        "razoes = []\n",
        "for i in range(len(precos)):\n",
        "  classe_otima = -1\n",
        "  while classe_otima != i+2:\n",
        "    precos[i] = precos[i] + 0.001\n",
        "    __, r, classe_otima = retorno_otimo(classes, s, precos, g)\n",
        "  retornos_otimos.append(r)\n",
        "  precos_otimos.append(round(precos[i], 2))\n",
        "  if i>0 : razoes.append(round(precos[i]/precos[0], 2))\n",
        "print(\"Vetor Retornos Otimos: \", retornos_otimos)\n",
        "print(\"Vetor Precos Otimos: \", precos_otimos)\n",
        "print(\"Razoes entre os preços: \", razoes)"
      ],
      "execution_count": null,
      "outputs": [
        {
          "output_type": "stream",
          "text": [
            "Vetor Retornos Otimos:  [14712.04, 14712.16, 14712.19, 14712.25, 14712.26]\n",
            "Vetor Precos Otimos:  [52.54, 100.0, 158.85, 222.82, 262.58]\n",
            "Razoes entre os preços:  [1.9, 3.02, 4.24, 5.0]\n"
          ],
          "name": "stdout"
        }
      ]
    },
    {
      "cell_type": "markdown",
      "metadata": {
        "id": "oJam63MVHweq"
      },
      "source": [
        "# Exercício 8\n",
        "Usando o método Simplex (mesmo método do Solver do Excel)"
      ]
    },
    {
      "cell_type": "code",
      "metadata": {
        "id": "8wO9NdvwkLea",
        "colab": {
          "base_uri": "https://localhost:8080/"
        },
        "outputId": "e58bd48e-d700-40dd-be29-a44b9af14cc9"
      },
      "source": [
        "from scipy.optimize import linprog\n",
        "\n",
        "# s = 1000\n",
        "\n",
        "neg_RT = [-14, -15.5, -12.5, -11.5, -18.5, 0]\n",
        "\n",
        "lhs_ineq = [[-0.28,  0.31,     0,     0,    0, 0],\n",
        "            [    0, -0.31,  0.25,     0,    0, 0],\n",
        "            [    0,     0, -0.25,  0.23,    0, 0],\n",
        "            [    0,     0,     0, -0.23, 0.37, 0]]\n",
        "rhs_ineq = [0,\n",
        "            0,\n",
        "            0,\n",
        "            0]\n",
        "\n",
        "lhs_eq = [[1, 1, 1, 1, 1, 1]]\n",
        "rhs_eq = [s]\n",
        "\n",
        "bnd = [(0, float(\"inf\")),\n",
        "       (0, float(\"inf\")),\n",
        "       (0, float(\"inf\")),\n",
        "       (0, float(\"inf\")),\n",
        "       (0, float(\"inf\")),\n",
        "       (0, float(\"inf\"))]\n",
        "\n",
        "otimo = linprog(c=neg_RT, A_ub=lhs_ineq, b_ub=rhs_ineq, A_eq=lhs_eq, \n",
        "                b_eq=rhs_eq, bounds=bnd, method='Simplex')\n",
        "print(\"Para \", s, \" árvores:\")\n",
        "print(\"Vetor x ótimo: \", otimo.x.round(2))\n",
        "print(\"Número de árvores cortadas(x1*g1): \", round(otimo.x[0]*g[0], 2))"
      ],
      "execution_count": null,
      "outputs": [
        {
          "output_type": "stream",
          "text": [
            "Para  1000  árvores:\n",
            "Vetor x ótimo:  [525.42 474.58   0.     0.     0.     0.  ]\n",
            "Número de árvores cortadas(x1*g1):  147.12\n"
          ],
          "name": "stdout"
        }
      ]
    },
    {
      "cell_type": "markdown",
      "metadata": {
        "id": "8RfK0gcpCs0b"
      },
      "source": [
        "Calculando o vetor x usando a equação (19) do livro:"
      ]
    },
    {
      "cell_type": "code",
      "metadata": {
        "id": "t4IzWNFpkLeb",
        "colab": {
          "base_uri": "https://localhost:8080/"
        },
        "outputId": "12279562-e6dc-4867-fc6b-99ac8c2a3715"
      },
      "source": [
        "soma_inversos_g = 0\n",
        "g_invertido = [1/g_i for g_i in g[0:2]] ### Usa-se somente os dois primeiros gi, pois a terceira classe será cortada\n",
        "soma_inversos_g = sum(g_invertido)\n",
        "x = [(s/soma_inversos_g)*g_invertido_i for g_invertido_i in g_invertido]\n",
        "print(\"Vetor x usando a equação 19 do livro: \", x)"
      ],
      "execution_count": null,
      "outputs": [
        {
          "output_type": "stream",
          "text": [
            "Vetor x usando a equação 19 do livro:  [525.4237288135593, 474.5762711864407]\n"
          ],
          "name": "stdout"
        }
      ]
    },
    {
      "cell_type": "markdown",
      "metadata": {
        "id": "fhAkNExeC0we"
      },
      "source": [
        "Número de árvores cortadas usando a equação do exercício 5 do livro"
      ]
    },
    {
      "cell_type": "code",
      "metadata": {
        "id": "tWtmNGejkLeb",
        "colab": {
          "base_uri": "https://localhost:8080/"
        },
        "outputId": "006ee5c4-b19e-4505-b8c3-30f3c059faec"
      },
      "source": [
        "arvores_cortadas = s/soma_inversos_g\n",
        "print(\"Arvore cortadas: \", round(arvores_cortadas, 2))"
      ],
      "execution_count": null,
      "outputs": [
        {
          "output_type": "stream",
          "text": [
            "Arvore cortadas:  147.12\n"
          ],
          "name": "stdout"
        }
      ]
    },
    {
      "cell_type": "markdown",
      "metadata": {
        "id": "yNldiG-GGCQX"
      },
      "source": [
        "Determinando o vetor x com simulação:"
      ]
    },
    {
      "cell_type": "code",
      "metadata": {
        "id": "1UD9oqdUkLec"
      },
      "source": [
        ""
      ],
      "execution_count": null,
      "outputs": []
    },
    {
      "cell_type": "markdown",
      "metadata": {
        "id": "95Xl7vtzTIJb"
      },
      "source": [
        "#Referências\n",
        "\n",
        "[1] Anton & Rorres, Álgebra Linear com Aplicações, 10ª Ed., Bookman, 2012\n",
        "\n",
        "[2] M.B.  Usher, ''A Mattrix Approach to the Management of Renewable Resources, with Special Reference to Selection Forest'', Journal of Applied Ecology, Vol. 3, 1966, pág. 355-367"
      ]
    },
    {
      "cell_type": "code",
      "metadata": {
        "id": "YaIJggFvTwco"
      },
      "source": [
        ""
      ],
      "execution_count": null,
      "outputs": []
    },
    {
      "cell_type": "markdown",
      "metadata": {
        "id": "2_kaIoY56p6S"
      },
      "source": [
        "PARTE TEXTUTAL:\n",
        "\n",
        "INTRODUÇÃO \n",
        "\tA sustentabilidade nunca foi tão discutida como é atualmente, são reuniões com líderes políticos e leis criadas para que cada vez se tenham a conscientização da utilização dos recursos dados da natureza de maneira mais responsável possível, sendo que são finitos.\n",
        "\tCom isso em mente o uso de modelos matemáticos juntamente com o poder computacional ficaram mais procurados, visto que uma parte da matemática trabalha com resolução de problemas de máximos e mínimos e deste modo auxiliando diversas áreas para que façam os seus processos de maneira a não desperdiçar materiais que são utilizados nos processos, ou seja, otimização do uso. \n",
        "\tNesse trabalho é apresentado modelo matemático dado um problema de plantio de árvores, o qual objetivo será o modelo deixar o teu plantio sustentável e otimizando o retorno para plantador.\n",
        "\n",
        "SITUAÇÃO-PROBLEMA E CONCEITOS\n",
        "\tO contexto que será aplicado modelo matemático é de uma área, onde encontra-se um vetor inicial x de formação de árvores de variadas alturas n, as quais terão um crescimento em determinado período. Após o crescimento será feita a colheita e replantio delas. O problema consiste em realizar um modelo matemático que tenha um corte sustentável e que economicamente se tenha um retorno sustentável ótimo para o proprietário.\n",
        "\tAlguns conceitos se fazem importante explicitá-los para que o modelo matemático fique mais entendível, seriam: corte sustentável e retorno sustentável ótimo.\n",
        "\tCorte sustentável, conforme Anton Rorres, pode-se definir o corte sustentável quando após o processo de crescimento e colheita a configuração final seja igual a tua inicial, ou seja, retornar ao vetor inicial x. Figura abaixo mostra de maneira mais lúcida o termo de corte sustentável:\n",
        "\n",
        "\n",
        "\t\n",
        "\n",
        "\n",
        "\t\t\n",
        "\n",
        "\n",
        "\n",
        "\n",
        "\n",
        "\n",
        "\tRetorno Sustentável Ótimo é definido por um teorema, de acordo com Anton Torres, o rendimento é obtido cortando todas as árvores de uma classe de altura específica e nenhuma árvore de qualquer outra classe. Portanto, esse conceito será a base para o modelo matemático consiga otimizar o corte economicamente para o plantador.\n",
        "\n",
        "MODELO MATEMÁTICO\n",
        "\tPor definição, modelo é uma representação da realidade que acaba sendo simplificada e idealizada, portanto, algumas restrições que serão colocadas para que seja aplicável e atendido a situação-problema.\n",
        "\tO primeiro momento a organização das árvores é a partir de classes avaliando pela altura, sendo que a primeira classe será a muda a qual foi passado que não há custos e nem receita para essa classe e que dada classe n não há mais crescimento. Os valores econômicos são função das respectivas alturas.\n",
        "\tDentro do modelo há algumas restrições que seguem:\n",
        "•\tcada árvore no teu período de crescimento só consegue crescer de uma classe, exceto àquelas que estejam na classe n, pois essa se mantém;\n",
        "•\tnenhum uma árvore morre nenhum dos processos;\n",
        "•\tos preços são fixados;\n",
        "•\tas taxas de crescimento são fixadas para cada classe\n",
        "\n",
        "\n"
      ]
    },
    {
      "cell_type": "markdown",
      "metadata": {
        "id": "CkGYJkPd7F4b"
      },
      "source": [
        "FINAL:\n",
        "\n",
        "CONSIDERAÇÕES FINAIS\n",
        "Crítica ao modelo\n",
        "\tComo todo modelo utilizado teve suas limitações quando comparamos a situação real de um plantio, especialmente deste modelo repara-se que é utilizado preços fixos e não é considerado dinamismo do mercado nem ao menos cogitado indexador inflacionário que esteja atrelado ao setor de mercado que o plantio se encaixa isso é importa, pois durante o tempo poderia se ter atualização dos valores para que plantio tivesse uma receita que não perdesse pelo menos poder compra devido a inflação que aquele mercado gera.\n",
        "\tOutro ponto considerado foram os fatores de época do plantio, clima da região e outros fatores que são determinantes para crescimento do plantio. Determinar taxas fixas de crescimento das árvores também é um aspecto que não considera dinamismo que a plantação pode sofrer devido aos fatores ambientais ao redor, o modelo faz como se plantio fosse um sistema isolado o que pode fazê-lo ser menos preciso.\n",
        "\tConsiderar nenhuma taxa de mortalidade das árvores acaba sendo algo que também distância mais ainda o modelo com a realidade, considerando fatores externos como praga, uma possível má formação da planta.\n",
        "\n",
        "Estimação de parâmetros\n",
        "\tNo modelo há variáveis de entradas que são feitas por estimação: p (preço) e g (taxa de crescimento das árvores), neste ponto será pensado métodos ou procedimento para estimar essas variáveis.\n",
        "\tO preço há algumas formas que se pode pensar de como estimar desde o que é praticada pela empresa, mas pensando efeitos ao longo do tempo como índice inflacionário geral ou até opção de indexador envolvendo o próprio é possível que realizar conjunto a variável preço uma atualização do através desses índices. Para isso pode ser pela abordagem de indexador geral oferecidos por entidades como a FGV - Fundação Getúlio Vargas (IGPM) ou IBGE – Instituto Brasileiro de Geografia e Estatística (IPCA) , ou o modelo poderia adotar em paralelo a própria mensuração do índice de preço, realizando assim um cálculo médio os preços de maneira histórica e observando como é comportamento do setor que se trabalha e neste tipo de trabalho quanto mais dados, ou seja, conjunto de produtos semelhantes ao do modelo melhor será o índice para que chegue no indexador mais apropriado a ele.\n",
        "\tEnquanto a taxa de crescimento da planta, esse tipo de estimativa poderia ser realizado através de aproximações do próprio plantador, pela a tua experiência, mas esse tipo de estimativa seria um tanto grosseria, portanto, um método que pode ser adotado é da própria medição das árvores com algum tempo de observação do teu crescimento, quanto mais ciclos se observar mais estimativa de taxa de crescimento ser aproximará com o que de fato a planta pode crescer em determinado espaço de tempo.\n"
      ]
    }
  ]
}