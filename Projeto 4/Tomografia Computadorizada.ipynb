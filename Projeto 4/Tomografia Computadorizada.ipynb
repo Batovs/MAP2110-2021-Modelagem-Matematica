{
  "nbformat": 4,
  "nbformat_minor": 0,
  "metadata": {
    "colab": {
      "name": "MAP2110 - Projeto 4 - Tomografia Computadorizada",
      "provenance": [],
      "collapsed_sections": [],
      "include_colab_link": true
    },
    "kernelspec": {
      "display_name": "Python 3",
      "name": "python3"
    },
    "language_info": {
      "name": "python"
    }
  },
  "cells": [
    {
      "cell_type": "markdown",
      "metadata": {
        "id": "view-in-github",
        "colab_type": "text"
      },
      "source": [
        "<a href=\"https://colab.research.google.com/github/Batovs/MAP2110-2021-Modelagem-Matematica/blob/main/Projeto%204/Tomografia%20Computadorizada.ipynb\" target=\"_parent\"><img src=\"https://colab.research.google.com/assets/colab-badge.svg\" alt=\"Open In Colab\"/></a>"
      ]
    },
    {
      "cell_type": "code",
      "metadata": {
        "id": "Hv83ctB6thC6"
      },
      "source": [
        "import numpy as np\n",
        "import pandas as pd\n",
        "from skimage import io\n",
        "from skimage import data\n",
        "import matplotlib.pyplot as plt\n",
        "import math\n",
        "  "
      ],
      "execution_count": null,
      "outputs": []
    },
    {
      "cell_type": "code",
      "metadata": {
        "id": "hHE7eapptzxA"
      },
      "source": [
        "def ProjecaoOrtogonal (a,b,x_star):\n",
        "  #Função para achar o ponto ortogonal entre a reta ax = b e o ponto x*\n",
        "  num = b - (np.dot(a.T,x_star))\n",
        "  den = np.dot(a.T,a)\n",
        "\n",
        "  xp = x_star + num/den*a\n",
        "\n",
        "  return xp"
      ],
      "execution_count": null,
      "outputs": []
    },
    {
      "cell_type": "code",
      "metadata": {
        "colab": {
          "base_uri": "https://localhost:8080/"
        },
        "id": "4g1uEkDNwFqT",
        "outputId": "bf5111e2-48a8-428b-f038-4e0fd0fb0fd4"
      },
      "source": [
        "#Teste Função ProjecaoOrtogonal\n",
        "a = np.array([[1],[1]])\n",
        "b = np.array([[2]])\n",
        "x_star = np.array([[1],[3]])\n",
        "\n",
        "ProjecaoOrtogonal(a,b,x_star)"
      ],
      "execution_count": null,
      "outputs": [
        {
          "output_type": "execute_result",
          "data": {
            "text/plain": [
              "array([[0.],\n",
              "       [2.]])"
            ]
          },
          "metadata": {
            "tags": []
          },
          "execution_count": 3
        }
      ]
    },
    {
      "cell_type": "code",
      "metadata": {
        "id": "O3PeWbLpxPdi"
      },
      "source": [
        "def Algoritmo1 (a1,a2,a3,b1,b2,b3,x,n):\n",
        "  resultado = []\n",
        "  resultado.append(np.array(x))\n",
        "  x0 = ProjecaoOrtogonal(a1,b1,x)\n",
        "\n",
        "  for i in range (n):\n",
        "    x1 = ProjecaoOrtogonal(a1,b1,x0)\n",
        "    resultado.append(x1)\n",
        "    x2 = ProjecaoOrtogonal(a2,b2,x1)\n",
        "    resultado.append(x2)\n",
        "    x3 = ProjecaoOrtogonal(a3,b3,x2)\n",
        "    resultado.append(x3)\n",
        "    x0 = x3\n",
        "  \n",
        "  return resultado\n"
      ],
      "execution_count": null,
      "outputs": []
    },
    {
      "cell_type": "code",
      "metadata": {
        "id": "JHtvRy6a16oj",
        "colab": {
          "base_uri": "https://localhost:8080/"
        },
        "outputId": "000a84a2-7cdd-41f5-9c4d-e762137e2aed"
      },
      "source": [
        "#Teste Para o exemplo1 do Livro (pg. 621)\n",
        "a1 = np.array([[1],[1]])\n",
        "b1 = 2\n",
        "a2 = np.array([[1],[-2]])\n",
        "b2 = -2\n",
        "a3 = np.array([[3],[-1]])\n",
        "b3 = 3\n",
        "x = np.array([[1],[3]])\n",
        "n = 6 #rodadas de iteração\n",
        "tab1 = Algoritmo1(a1,a2,a3,b1,b2,b3,x,n)\n",
        "tab1"
      ],
      "execution_count": null,
      "outputs": [
        {
          "output_type": "execute_result",
          "data": {
            "text/plain": [
              "[array([[1],\n",
              "        [3]]), array([[0.],\n",
              "        [2.]]), array([[0.4],\n",
              "        [1.2]]), array([[1.3],\n",
              "        [0.9]]), array([[1.2],\n",
              "        [0.8]]), array([[0.88],\n",
              "        [1.44]]), array([[1.42],\n",
              "        [1.26]]), array([[1.08],\n",
              "        [0.92]]), array([[0.832],\n",
              "        [1.416]]), array([[1.408],\n",
              "        [1.224]]), array([[1.092],\n",
              "        [0.908]]), array([[0.8368],\n",
              "        [1.4184]]), array([[1.4092],\n",
              "        [1.2276]]), array([[1.0908],\n",
              "        [0.9092]]), array([[0.83632],\n",
              "        [1.41816]]), array([[1.40908],\n",
              "        [1.22724]]), array([[1.09092],\n",
              "        [0.90908]]), array([[0.836368],\n",
              "        [1.418184]]), array([[1.409092],\n",
              "        [1.227276]])]"
            ]
          },
          "metadata": {
            "tags": []
          },
          "execution_count": 17
        }
      ]
    },
    {
      "cell_type": "code",
      "metadata": {
        "colab": {
          "base_uri": "https://localhost:8080/",
          "height": 645
        },
        "id": "oFjQo8IT2fc6",
        "outputId": "499d8d25-bff2-434c-ac2d-f3de0ca5cfb9"
      },
      "source": [
        "Tabela1 = pd.DataFrame()\n",
        "\n",
        "#Df apartir de tab1 (resultado do ex1)\n",
        "for i in range (len(tab1)):\n",
        "  Tabela1 = Tabela1.append(tab1[i].T.tolist())\n",
        "\n",
        "#Renomeando Colunas e resetando o index\n",
        "Tabela1.rename({0:'X1',1:'X2'},inplace=True,axis=1)\n",
        "Tabela1 = Tabela1.reset_index().drop('index',axis=1)\n",
        "Tabela1"
      ],
      "execution_count": null,
      "outputs": [
        {
          "output_type": "execute_result",
          "data": {
            "text/html": [
              "<div>\n",
              "<style scoped>\n",
              "    .dataframe tbody tr th:only-of-type {\n",
              "        vertical-align: middle;\n",
              "    }\n",
              "\n",
              "    .dataframe tbody tr th {\n",
              "        vertical-align: top;\n",
              "    }\n",
              "\n",
              "    .dataframe thead th {\n",
              "        text-align: right;\n",
              "    }\n",
              "</style>\n",
              "<table border=\"1\" class=\"dataframe\">\n",
              "  <thead>\n",
              "    <tr style=\"text-align: right;\">\n",
              "      <th></th>\n",
              "      <th>X1</th>\n",
              "      <th>X2</th>\n",
              "    </tr>\n",
              "  </thead>\n",
              "  <tbody>\n",
              "    <tr>\n",
              "      <th>0</th>\n",
              "      <td>1.000000</td>\n",
              "      <td>3.000000</td>\n",
              "    </tr>\n",
              "    <tr>\n",
              "      <th>1</th>\n",
              "      <td>0.000000</td>\n",
              "      <td>2.000000</td>\n",
              "    </tr>\n",
              "    <tr>\n",
              "      <th>2</th>\n",
              "      <td>0.400000</td>\n",
              "      <td>1.200000</td>\n",
              "    </tr>\n",
              "    <tr>\n",
              "      <th>3</th>\n",
              "      <td>1.300000</td>\n",
              "      <td>0.900000</td>\n",
              "    </tr>\n",
              "    <tr>\n",
              "      <th>4</th>\n",
              "      <td>1.200000</td>\n",
              "      <td>0.800000</td>\n",
              "    </tr>\n",
              "    <tr>\n",
              "      <th>5</th>\n",
              "      <td>0.880000</td>\n",
              "      <td>1.440000</td>\n",
              "    </tr>\n",
              "    <tr>\n",
              "      <th>6</th>\n",
              "      <td>1.420000</td>\n",
              "      <td>1.260000</td>\n",
              "    </tr>\n",
              "    <tr>\n",
              "      <th>7</th>\n",
              "      <td>1.080000</td>\n",
              "      <td>0.920000</td>\n",
              "    </tr>\n",
              "    <tr>\n",
              "      <th>8</th>\n",
              "      <td>0.832000</td>\n",
              "      <td>1.416000</td>\n",
              "    </tr>\n",
              "    <tr>\n",
              "      <th>9</th>\n",
              "      <td>1.408000</td>\n",
              "      <td>1.224000</td>\n",
              "    </tr>\n",
              "    <tr>\n",
              "      <th>10</th>\n",
              "      <td>1.092000</td>\n",
              "      <td>0.908000</td>\n",
              "    </tr>\n",
              "    <tr>\n",
              "      <th>11</th>\n",
              "      <td>0.836800</td>\n",
              "      <td>1.418400</td>\n",
              "    </tr>\n",
              "    <tr>\n",
              "      <th>12</th>\n",
              "      <td>1.409200</td>\n",
              "      <td>1.227600</td>\n",
              "    </tr>\n",
              "    <tr>\n",
              "      <th>13</th>\n",
              "      <td>1.090800</td>\n",
              "      <td>0.909200</td>\n",
              "    </tr>\n",
              "    <tr>\n",
              "      <th>14</th>\n",
              "      <td>0.836320</td>\n",
              "      <td>1.418160</td>\n",
              "    </tr>\n",
              "    <tr>\n",
              "      <th>15</th>\n",
              "      <td>1.409080</td>\n",
              "      <td>1.227240</td>\n",
              "    </tr>\n",
              "    <tr>\n",
              "      <th>16</th>\n",
              "      <td>1.090920</td>\n",
              "      <td>0.909080</td>\n",
              "    </tr>\n",
              "    <tr>\n",
              "      <th>17</th>\n",
              "      <td>0.836368</td>\n",
              "      <td>1.418184</td>\n",
              "    </tr>\n",
              "    <tr>\n",
              "      <th>18</th>\n",
              "      <td>1.409092</td>\n",
              "      <td>1.227276</td>\n",
              "    </tr>\n",
              "  </tbody>\n",
              "</table>\n",
              "</div>"
            ],
            "text/plain": [
              "          X1        X2\n",
              "0   1.000000  3.000000\n",
              "1   0.000000  2.000000\n",
              "2   0.400000  1.200000\n",
              "3   1.300000  0.900000\n",
              "4   1.200000  0.800000\n",
              "5   0.880000  1.440000\n",
              "6   1.420000  1.260000\n",
              "7   1.080000  0.920000\n",
              "8   0.832000  1.416000\n",
              "9   1.408000  1.224000\n",
              "10  1.092000  0.908000\n",
              "11  0.836800  1.418400\n",
              "12  1.409200  1.227600\n",
              "13  1.090800  0.909200\n",
              "14  0.836320  1.418160\n",
              "15  1.409080  1.227240\n",
              "16  1.090920  0.909080\n",
              "17  0.836368  1.418184\n",
              "18  1.409092  1.227276"
            ]
          },
          "metadata": {
            "tags": []
          },
          "execution_count": 18
        }
      ]
    },
    {
      "cell_type": "code",
      "metadata": {
        "id": "1xp1Lwfh801N"
      },
      "source": [
        "def Algoritmo2 (a,b,xstar,n):\n",
        "  \n",
        "  resultado = []\n",
        "  lenb = len(b)\n",
        "  resultado.append(np.atleast_2d(xstar)) #primeiro resultado\n",
        "  xstarC = np.atleast_2d(xstar).T #lista em vetor coluna\n",
        "  x0 = ProjecaoOrtogonal(np.array(a[0].T),b[0],xstarC)\n",
        "\n",
        "  for j in range(n):\n",
        "    for i in range (lenb):\n",
        "      x0 = ProjecaoOrtogonal(np.array(a[i].T),b[i],x0)\n",
        "      resultado.append(x0.T)\n",
        "   \n",
        "  \n",
        "  return resultado"
      ],
      "execution_count": null,
      "outputs": []
    },
    {
      "cell_type": "code",
      "metadata": {
        "id": "XHBG8yz5oMlx"
      },
      "source": [
        "#Matriz vetor a para o método do centro do pixel\n",
        "a =np.matrix([[0,0,0,0,0,0,1,1,1],\n",
        "              [0,0,0,1,1,1,0,0,0],\n",
        "              [1,1,1,0,0,0,0,0,0],\n",
        "              [0,0,0,0,0,1,0,1,1],\n",
        "              [0,0,1,0,1,0,1,0,0],\n",
        "              [1,1,0,1,0,0,0,0,0],\n",
        "              [0,0,1,0,0,1,0,0,1],\n",
        "              [0,1,0,0,1,0,0,1,0],\n",
        "              [1,0,0,1,0,0,1,0,0],\n",
        "              [0,1,1,0,0,1,0,0,0],\n",
        "              [1,0,0,0,1,0,0,0,1],\n",
        "              [0,0,0,1,0,0,1,1,0]])\n",
        "#Valores de b\n",
        "b = [13.0, 15.0, 8.0, 14.79, 14.31, 3.81, 18.0, 12.0, 6.0, 10.51, 16.13, 7.04]\n",
        "xstar = np.zeros(9)         "
      ],
      "execution_count": null,
      "outputs": []
    },
    {
      "cell_type": "code",
      "metadata": {
        "colab": {
          "base_uri": "https://localhost:8080/"
        },
        "id": "n-sMBpFWqRA4",
        "outputId": "440fe6ee-c0dc-43bf-9bad-0fb935882dd5"
      },
      "source": [
        "Algoritmo2(a,b,xstar,1)#Primeira iteração até x1_12"
      ],
      "execution_count": null,
      "outputs": [
        {
          "output_type": "execute_result",
          "data": {
            "text/plain": [
              "[array([[0., 0., 0., 0., 0., 0., 0., 0., 0.]]),\n",
              " array([[0.        , 0.        , 0.        , 0.        , 0.        ,\n",
              "         0.        , 4.33333333, 4.33333333, 4.33333333]]),\n",
              " array([[0.        , 0.        , 0.        , 5.        , 5.        ,\n",
              "         5.        , 4.33333333, 4.33333333, 4.33333333]]),\n",
              " array([[2.66666667, 2.66666667, 2.66666667, 5.        , 5.        ,\n",
              "         5.        , 4.33333333, 4.33333333, 4.33333333]]),\n",
              " array([[2.66666667, 2.66666667, 2.66666667, 5.        , 5.        ,\n",
              "         5.37444444, 4.33333333, 4.70777778, 4.70777778]]),\n",
              " array([[2.66666667, 2.66666667, 3.43666667, 5.        , 5.77      ,\n",
              "         5.37444444, 5.10333333, 4.70777778, 4.70777778]]),\n",
              " array([[0.49222222, 0.49222222, 3.43666667, 2.82555556, 5.77      ,\n",
              "         5.37444444, 5.10333333, 4.70777778, 4.70777778]]),\n",
              " array([[0.49222222, 0.49222222, 4.93037037, 2.82555556, 5.77      ,\n",
              "         6.86814815, 5.10333333, 4.70777778, 6.20148148]]),\n",
              " array([[0.49222222, 0.83555556, 4.93037037, 2.82555556, 6.11333333,\n",
              "         6.86814815, 5.10333333, 5.05111111, 6.20148148]]),\n",
              " array([[-0.31481481,  0.83555556,  4.93037037,  2.01851852,  6.11333333,\n",
              "          6.86814815,  4.2962963 ,  5.05111111,  6.20148148]]),\n",
              " array([[-0.31481481,  0.12753086,  4.22234568,  2.01851852,  6.11333333,\n",
              "          6.16012346,  4.2962963 ,  5.05111111,  6.20148148]]),\n",
              " array([[1.06185185, 0.12753086, 4.22234568, 2.01851852, 7.49      ,\n",
              "         6.16012346, 4.2962963 , 5.05111111, 7.57814815]]),\n",
              " array([[1.06185185, 0.12753086, 4.22234568, 0.57654321, 7.49      ,\n",
              "         6.16012346, 2.85432099, 3.6091358 , 7.57814815]])]"
            ]
          },
          "metadata": {
            "tags": []
          },
          "execution_count": 6
        }
      ]
    },
    {
      "cell_type": "code",
      "metadata": {
        "colab": {
          "base_uri": "https://localhost:8080/",
          "height": 419
        },
        "id": "Fs5tmsHAvXHQ",
        "outputId": "9a9ecc33-97ac-4b16-f47e-eecda5e4540d"
      },
      "source": [
        "tab2 = Algoritmo2(a,b,xstar,45)\n",
        "\n",
        "Tabela2 = pd.DataFrame()\n",
        "\n",
        "#Df apartir de tab1 (resultado do ex1)\n",
        "for i in range (len(tab2)):\n",
        "  Tabela2 = Tabela2.append(tab2[i].tolist())\n",
        "\n",
        "#Renomeando Colunas e resetando o index\n",
        "Tabela2.rename({0:'x1', 1:'x2', 2:'x3', \n",
        "                3:'x4', 4:'x5', 5:'x6',\n",
        "                6:'x7', 7:'x8', 8:'x9'}, inplace=True,axis=1)\n",
        "Tabela2 = Tabela2.reset_index().drop('index',axis=1)\n",
        "Tabela2.round(2)\n"
      ],
      "execution_count": null,
      "outputs": [
        {
          "output_type": "execute_result",
          "data": {
            "text/html": [
              "<div>\n",
              "<style scoped>\n",
              "    .dataframe tbody tr th:only-of-type {\n",
              "        vertical-align: middle;\n",
              "    }\n",
              "\n",
              "    .dataframe tbody tr th {\n",
              "        vertical-align: top;\n",
              "    }\n",
              "\n",
              "    .dataframe thead th {\n",
              "        text-align: right;\n",
              "    }\n",
              "</style>\n",
              "<table border=\"1\" class=\"dataframe\">\n",
              "  <thead>\n",
              "    <tr style=\"text-align: right;\">\n",
              "      <th></th>\n",
              "      <th>x1</th>\n",
              "      <th>x2</th>\n",
              "      <th>x3</th>\n",
              "      <th>x4</th>\n",
              "      <th>x5</th>\n",
              "      <th>x6</th>\n",
              "      <th>x7</th>\n",
              "      <th>x8</th>\n",
              "      <th>x9</th>\n",
              "    </tr>\n",
              "  </thead>\n",
              "  <tbody>\n",
              "    <tr>\n",
              "      <th>0</th>\n",
              "      <td>0.00</td>\n",
              "      <td>0.00</td>\n",
              "      <td>0.00</td>\n",
              "      <td>0.00</td>\n",
              "      <td>0.00</td>\n",
              "      <td>0.00</td>\n",
              "      <td>0.00</td>\n",
              "      <td>0.00</td>\n",
              "      <td>0.00</td>\n",
              "    </tr>\n",
              "    <tr>\n",
              "      <th>1</th>\n",
              "      <td>0.00</td>\n",
              "      <td>0.00</td>\n",
              "      <td>0.00</td>\n",
              "      <td>0.00</td>\n",
              "      <td>0.00</td>\n",
              "      <td>0.00</td>\n",
              "      <td>4.33</td>\n",
              "      <td>4.33</td>\n",
              "      <td>4.33</td>\n",
              "    </tr>\n",
              "    <tr>\n",
              "      <th>2</th>\n",
              "      <td>0.00</td>\n",
              "      <td>0.00</td>\n",
              "      <td>0.00</td>\n",
              "      <td>5.00</td>\n",
              "      <td>5.00</td>\n",
              "      <td>5.00</td>\n",
              "      <td>4.33</td>\n",
              "      <td>4.33</td>\n",
              "      <td>4.33</td>\n",
              "    </tr>\n",
              "    <tr>\n",
              "      <th>3</th>\n",
              "      <td>2.67</td>\n",
              "      <td>2.67</td>\n",
              "      <td>2.67</td>\n",
              "      <td>5.00</td>\n",
              "      <td>5.00</td>\n",
              "      <td>5.00</td>\n",
              "      <td>4.33</td>\n",
              "      <td>4.33</td>\n",
              "      <td>4.33</td>\n",
              "    </tr>\n",
              "    <tr>\n",
              "      <th>4</th>\n",
              "      <td>2.67</td>\n",
              "      <td>2.67</td>\n",
              "      <td>2.67</td>\n",
              "      <td>5.00</td>\n",
              "      <td>5.00</td>\n",
              "      <td>5.37</td>\n",
              "      <td>4.33</td>\n",
              "      <td>4.71</td>\n",
              "      <td>4.71</td>\n",
              "    </tr>\n",
              "    <tr>\n",
              "      <th>...</th>\n",
              "      <td>...</td>\n",
              "      <td>...</td>\n",
              "      <td>...</td>\n",
              "      <td>...</td>\n",
              "      <td>...</td>\n",
              "      <td>...</td>\n",
              "      <td>...</td>\n",
              "      <td>...</td>\n",
              "      <td>...</td>\n",
              "    </tr>\n",
              "    <tr>\n",
              "      <th>536</th>\n",
              "      <td>1.23</td>\n",
              "      <td>0.85</td>\n",
              "      <td>5.58</td>\n",
              "      <td>2.06</td>\n",
              "      <td>7.75</td>\n",
              "      <td>4.85</td>\n",
              "      <td>1.67</td>\n",
              "      <td>3.40</td>\n",
              "      <td>7.58</td>\n",
              "    </tr>\n",
              "    <tr>\n",
              "      <th>537</th>\n",
              "      <td>1.58</td>\n",
              "      <td>0.85</td>\n",
              "      <td>5.58</td>\n",
              "      <td>2.41</td>\n",
              "      <td>7.75</td>\n",
              "      <td>4.85</td>\n",
              "      <td>2.02</td>\n",
              "      <td>3.40</td>\n",
              "      <td>7.58</td>\n",
              "    </tr>\n",
              "    <tr>\n",
              "      <th>538</th>\n",
              "      <td>1.58</td>\n",
              "      <td>0.60</td>\n",
              "      <td>5.32</td>\n",
              "      <td>2.41</td>\n",
              "      <td>7.75</td>\n",
              "      <td>4.59</td>\n",
              "      <td>2.02</td>\n",
              "      <td>3.40</td>\n",
              "      <td>7.58</td>\n",
              "    </tr>\n",
              "    <tr>\n",
              "      <th>539</th>\n",
              "      <td>1.32</td>\n",
              "      <td>0.60</td>\n",
              "      <td>5.32</td>\n",
              "      <td>2.41</td>\n",
              "      <td>7.49</td>\n",
              "      <td>4.59</td>\n",
              "      <td>2.02</td>\n",
              "      <td>3.40</td>\n",
              "      <td>7.32</td>\n",
              "    </tr>\n",
              "    <tr>\n",
              "      <th>540</th>\n",
              "      <td>1.32</td>\n",
              "      <td>0.60</td>\n",
              "      <td>5.32</td>\n",
              "      <td>2.15</td>\n",
              "      <td>7.49</td>\n",
              "      <td>4.59</td>\n",
              "      <td>1.76</td>\n",
              "      <td>3.14</td>\n",
              "      <td>7.32</td>\n",
              "    </tr>\n",
              "  </tbody>\n",
              "</table>\n",
              "<p>541 rows × 9 columns</p>\n",
              "</div>"
            ],
            "text/plain": [
              "       x1    x2    x3    x4    x5    x6    x7    x8    x9\n",
              "0    0.00  0.00  0.00  0.00  0.00  0.00  0.00  0.00  0.00\n",
              "1    0.00  0.00  0.00  0.00  0.00  0.00  4.33  4.33  4.33\n",
              "2    0.00  0.00  0.00  5.00  5.00  5.00  4.33  4.33  4.33\n",
              "3    2.67  2.67  2.67  5.00  5.00  5.00  4.33  4.33  4.33\n",
              "4    2.67  2.67  2.67  5.00  5.00  5.37  4.33  4.71  4.71\n",
              "..    ...   ...   ...   ...   ...   ...   ...   ...   ...\n",
              "536  1.23  0.85  5.58  2.06  7.75  4.85  1.67  3.40  7.58\n",
              "537  1.58  0.85  5.58  2.41  7.75  4.85  2.02  3.40  7.58\n",
              "538  1.58  0.60  5.32  2.41  7.75  4.59  2.02  3.40  7.58\n",
              "539  1.32  0.60  5.32  2.41  7.49  4.59  2.02  3.40  7.32\n",
              "540  1.32  0.60  5.32  2.15  7.49  4.59  1.76  3.14  7.32\n",
              "\n",
              "[541 rows x 9 columns]"
            ]
          },
          "metadata": {
            "tags": []
          },
          "execution_count": 7
        }
      ]
    },
    {
      "cell_type": "code",
      "metadata": {
        "id": "re5GW2wMA2df"
      },
      "source": [
        "#Cria a matriz com os resultados, apartir da tabela\n",
        "def MatrizResultado(tab_df):\n",
        "  \n",
        "  tab_df = pd.DataFrame(tab_df) #Para Funcionar com df ou array\n",
        "  resultado = tab_df.tail(1)\n",
        "  len_tab = len(resultado.iloc[0])\n",
        "  n = int(math.sqrt(len_tab))\n",
        "  saida = np.zeros((n,n))\n",
        "\n",
        "  #Resultados em Matriz Quadrada n por n\n",
        "  for i in range (n):\n",
        "    for j in range (n):\n",
        "      saida[i][j] = resultado.iloc[0][i*n + j]\n",
        "\n",
        "  return saida"
      ],
      "execution_count": null,
      "outputs": []
    },
    {
      "cell_type": "code",
      "metadata": {
        "colab": {
          "base_uri": "https://localhost:8080/",
          "height": 248
        },
        "id": "WkcYuVa6DGbN",
        "outputId": "cf45de93-004e-4c8b-9e8c-1736a1315711"
      },
      "source": [
        "plt.figure(figsize=(4, 4))\n",
        "plt.imshow(MatrizResultado(Tabela2), cmap='gray')\n",
        "plt.axis('off')\n",
        "plt.savefig('Imagem_ex4.png')\n"
      ],
      "execution_count": null,
      "outputs": [
        {
          "output_type": "display_data",
          "data": {
            "image/png": "[encoded data removed]",
            "text/plain": [
              "<Figure size 288x288 with 1 Axes>"
            ]
          },
          "metadata": {
            "tags": [],
            "needs_background": "light"
          }
        }
      ]
    },
    {
      "cell_type": "markdown",
      "metadata": {
        "id": "NizItJUt0-JS"
      },
      "source": [
        "Diagonal //"
      ]
    },
    {
      "cell_type": "code",
      "metadata": {
        "id": "CmSPky5vwV1R"
      },
      "source": [
        "def cria_matriz_a_diagonal_1(n): # imagem n x n , com n*n pixels\n",
        "  colunas = n*n\n",
        "  linhas = (n-1)*2+1\n",
        "  salto = n-1\n",
        "\n",
        "  matriz = np.zeros((linhas, colunas))\n",
        "\n",
        "  for i in range(int(linhas/2)+1):\n",
        "    matriz[i][i] = 1\n",
        "    for j in range(i):\n",
        "      matriz[i][i+(j+1)*salto] = 1\n",
        "  \n",
        "  for i in range(int(linhas/2)+1, linhas):\n",
        "    for j in range(colunas):\n",
        "      matriz[i][j] = matriz[linhas-i-1][colunas-j-1]\n",
        "\n",
        "  return matriz"
      ],
      "execution_count": null,
      "outputs": []
    },
    {
      "cell_type": "code",
      "metadata": {
        "id": "r2FJL2oCDB5H"
      },
      "source": [
        "matriz_a_diagonal_1 = cria_matriz_a_diagonal_1(512)"
      ],
      "execution_count": null,
      "outputs": []
    },
    {
      "cell_type": "code",
      "metadata": {
        "colab": {
          "base_uri": "https://localhost:8080/"
        },
        "id": "Is1fw-YJstbM",
        "outputId": "20670102-28fc-4b83-9453-c2b91c9a619e"
      },
      "source": [
        "matriz_a_diagonal_1.shape"
      ],
      "execution_count": null,
      "outputs": [
        {
          "output_type": "execute_result",
          "data": {
            "text/plain": [
              "(1023, 262144)"
            ]
          },
          "metadata": {
            "tags": []
          },
          "execution_count": 27
        }
      ]
    },
    {
      "cell_type": "markdown",
      "metadata": {
        "id": "yD6S9ko1-llf"
      },
      "source": [
        "Diagonal \\\\\\"
      ]
    },
    {
      "cell_type": "code",
      "metadata": {
        "id": "wvhOcPnvA1Xv"
      },
      "source": [
        "def cria_matriz_a_diagonal_2(n): # imagem n x n , com n*n pixels\n",
        "  colunas = n*n\n",
        "  linhas = (n-1)*2+1\n",
        "  salto = n+1\n",
        "\n",
        "  matriz = np.zeros((linhas, colunas))\n",
        "\n",
        "  for i in range(int(linhas/2)+1):\n",
        "    matriz[i][n-1-i] = 1\n",
        "    for j in range(i):\n",
        "      matriz[i][n-1-i+(j+1)*salto] = 1\n",
        "  \n",
        "  for i in range(int(linhas/2)+1, linhas):\n",
        "    for j in range(colunas):\n",
        "      matriz[i][j] = matriz[linhas-i-1][colunas-j-1]\n",
        "\n",
        "  return matriz"
      ],
      "execution_count": null,
      "outputs": []
    },
    {
      "cell_type": "code",
      "metadata": {
        "id": "Ioj7POtZQQ7R"
      },
      "source": [
        "matriz_a_diagonal_2 = cria_matriz_a_diagonal_2(512)"
      ],
      "execution_count": null,
      "outputs": []
    },
    {
      "cell_type": "code",
      "metadata": {
        "colab": {
          "base_uri": "https://localhost:8080/"
        },
        "id": "6luKpYuctWwH",
        "outputId": "91c94c66-8064-4637-d1fc-8681c00fcfce"
      },
      "source": [
        "matriz_a_diagonal_2.shape"
      ],
      "execution_count": null,
      "outputs": [
        {
          "output_type": "execute_result",
          "data": {
            "text/plain": [
              "(1023, 262144)"
            ]
          },
          "metadata": {
            "tags": []
          },
          "execution_count": 30
        }
      ]
    },
    {
      "cell_type": "markdown",
      "metadata": {
        "id": "VqhopOYUWI9b"
      },
      "source": [
        "Vertical ||"
      ]
    },
    {
      "cell_type": "code",
      "metadata": {
        "id": "9QmEhRloWIR4"
      },
      "source": [
        "def cria_matriz_a_vertical(n): # imagem n x n , com n*n pixels\n",
        "  linhas = n\n",
        "  colunas = n*n\n",
        "  salto = n\n",
        "\n",
        "  matriz = np.zeros((linhas, colunas))\n",
        "\n",
        "  for i in range(linhas):\n",
        "    for j in range(linhas):\n",
        "      matriz[i][i+salto*j] = 1\n",
        "  \n",
        "  return matriz"
      ],
      "execution_count": null,
      "outputs": []
    },
    {
      "cell_type": "code",
      "metadata": {
        "id": "lRmAJvkoWUQk"
      },
      "source": [
        "matriz_a_vertical = cria_matriz_a_vertical(512)"
      ],
      "execution_count": null,
      "outputs": []
    },
    {
      "cell_type": "code",
      "metadata": {
        "colab": {
          "base_uri": "https://localhost:8080/"
        },
        "id": "rA5LTgeNtkGr",
        "outputId": "da073704-7520-4489-b3a6-19cbfd0f4066"
      },
      "source": [
        "matriz_a_vertical.shape"
      ],
      "execution_count": null,
      "outputs": [
        {
          "output_type": "execute_result",
          "data": {
            "text/plain": [
              "(512, 262144)"
            ]
          },
          "metadata": {
            "tags": []
          },
          "execution_count": 33
        }
      ]
    },
    {
      "cell_type": "markdown",
      "metadata": {
        "id": "l3MpuGFNW5in"
      },
      "source": [
        "Horizontal ="
      ]
    },
    {
      "cell_type": "code",
      "metadata": {
        "id": "kCfVGNSOW9BX"
      },
      "source": [
        "def cria_matriz_a_horizontal(n): # imagem n x n , com n*n pixels\n",
        "  linhas = n\n",
        "  colunas = n*n\n",
        "  salto = n\n",
        "\n",
        "  matriz = np.zeros((linhas, colunas))\n",
        "\n",
        "  for i in range(linhas):\n",
        "    for j in range(linhas):\n",
        "      matriz[i][salto*i+j] = 1\n",
        "  \n",
        "  return matriz"
      ],
      "execution_count": null,
      "outputs": []
    },
    {
      "cell_type": "code",
      "metadata": {
        "id": "12H94SzqYq3j"
      },
      "source": [
        "matriz_a_horizontal = cria_matriz_a_horizontal(512)"
      ],
      "execution_count": null,
      "outputs": []
    },
    {
      "cell_type": "code",
      "metadata": {
        "colab": {
          "base_uri": "https://localhost:8080/"
        },
        "id": "mkKpZVlzt3FC",
        "outputId": "1a0b188f-5152-49eb-96c6-3d9cc54cf65c"
      },
      "source": [
        "matriz_a_horizontal.shape"
      ],
      "execution_count": null,
      "outputs": [
        {
          "output_type": "execute_result",
          "data": {
            "text/plain": [
              "(512, 262144)"
            ]
          },
          "metadata": {
            "tags": []
          },
          "execution_count": 36
        }
      ]
    },
    {
      "cell_type": "code",
      "metadata": {
        "id": "Gf8OI1BwbKQC"
      },
      "source": [
        "def cria_matriz_a(n):\n",
        "  md1 = cria_matriz_a_diagonal_1(n)\n",
        "  md2 = cria_matriz_a_diagonal_2(n)\n",
        "  mv = cria_matriz_a_vertical(n)\n",
        "  mh = cria_matriz_a_horizontal(n)\n",
        "  matriz_a = np.concatenate((md1,md2,mv,mh))\n",
        "  return (np.asmatrix(matriz_a))"
      ],
      "execution_count": null,
      "outputs": []
    },
    {
      "cell_type": "code",
      "metadata": {
        "id": "nF6eTF_ePd7m"
      },
      "source": [
        "matriz_512 = cria_matriz_a(512)"
      ],
      "execution_count": null,
      "outputs": []
    },
    {
      "cell_type": "markdown",
      "metadata": {
        "id": "JoxWYBOTuWmI"
      },
      "source": [
        "Deletar matrizes"
      ]
    },
    {
      "cell_type": "code",
      "metadata": {
        "id": "rHAvQKP_uUYV"
      },
      "source": [
        "#del matriz_a_diagonal_1\n",
        "#del matriz_a_diagonal_2\n",
        "#del matriz_a_vertical\n",
        "#del matriz_a_horizontal"
      ],
      "execution_count": null,
      "outputs": []
    },
    {
      "cell_type": "markdown",
      "metadata": {
        "id": "P_ioGFSUN5qs"
      },
      "source": [
        "##Teste Criação de Imagem"
      ]
    },
    {
      "cell_type": "code",
      "metadata": {
        "id": "gU38zDw7N-mO"
      },
      "source": [
        "#imagem 512 x 512\n",
        "camera = data.camera()\n",
        "\n",
        "plt.figure(figsize=(6, 6))\n",
        "plt.imshow(camera, cmap='gray')\n",
        "plt.axis('off')\n",
        "\n",
        "plt.show()"
      ],
      "execution_count": null,
      "outputs": []
    },
    {
      "cell_type": "code",
      "metadata": {
        "id": "G5yfo6niOEZG"
      },
      "source": [
        "def CriaListab(matriz_a,imagem_np):\n",
        "  len_img = len(imagem_np)\n",
        "  pixel = len_img*len_img #n pixel para imagem quadrada\n",
        "  vetor_pixel = [] #inicial\n",
        "  for i in range (len_img):\n",
        "    for j in range (len_img):\n",
        "      vetor_pixel.append(imagem_np[i][j])\n",
        "  vetor_pixel = np.array(vetor_pixel)\n",
        "\n",
        "  b = []\n",
        "  for k in range(len(matriz_a)):\n",
        "    res = np.array(matriz_a[k])*vetor_pixel\n",
        "    b.append(res.sum())\n",
        "\n",
        "  return b"
      ],
      "execution_count": null,
      "outputs": []
    },
    {
      "cell_type": "code",
      "metadata": {
        "id": "XhPY-_jFTRoo"
      },
      "source": [
        "teste = MatrizResultado(Tabela2)\n",
        "CriaListab(a,teste)"
      ],
      "execution_count": null,
      "outputs": []
    },
    {
      "cell_type": "code",
      "metadata": {
        "id": "ejLqbRUceI_5"
      },
      "source": [
        "#Crop imagem camera em 80x80\n",
        "camera80 = np.zeros((80,80))\n",
        "for i in range(80):\n",
        "  for j in range(80):\n",
        "    camera80[i][j]= camera[300+i][300+j]\n",
        "\n",
        "plt.figure(figsize=(6, 6))\n",
        "plt.imshow(camera80, cmap='gray')\n",
        "plt.axis('off')\n",
        "\n",
        "plt.show()"
      ],
      "execution_count": null,
      "outputs": []
    },
    {
      "cell_type": "code",
      "metadata": {
        "id": "TSLX7CIdTa8e"
      },
      "source": [
        "matriz_a_teste = cria_matriz_a(80)\n",
        "b_teste = CriaListab(matriz_a_teste,camera80)\n",
        "x_teste = np.zeros(6400)\n",
        "teste80 = Algoritmo2(matriz_a_teste,b_teste,x_teste,200)"
      ],
      "execution_count": null,
      "outputs": []
    },
    {
      "cell_type": "code",
      "metadata": {
        "id": "Ym1ytt65Uy5z"
      },
      "source": [
        "teste80_df = pd.DataFrame(teste80[-1])\n",
        "teste80img = MatrizResultado(teste80_df)\n",
        "plt.figure(figsize=(6, 6))\n",
        "plt.imshow(teste80img, cmap='gray')\n",
        "plt.axis('off')\n",
        "\n",
        "plt.show()"
      ],
      "execution_count": null,
      "outputs": []
    },
    {
      "cell_type": "code",
      "metadata": {
        "id": "KxbKxsXsAn8X"
      },
      "source": [
        "MatrizA_512 = cria_matriz_a(512)"
      ],
      "execution_count": null,
      "outputs": []
    },
    {
      "cell_type": "markdown",
      "metadata": {
        "id": "m8hTi95pUk-5"
      },
      "source": [
        "## Quesão 4 (reta central e área)"
      ]
    },
    {
      "cell_type": "markdown",
      "metadata": {
        "id": "GMSBY_8CWxgu"
      },
      "source": [
        "Reta Central"
      ]
    },
    {
      "cell_type": "code",
      "metadata": {
        "id": "04m1VkTdB0GO"
      },
      "source": [
        "#Matriz vetor a para o método da reta central\n",
        "a_rc =np.matrix([[1,1,1,0,0,0,0,0,0],\n",
        "                 [0,0,0,1,1,1,0,0,0],\n",
        "                 [0,0,0,0,0,0,1,1,1],\n",
        "                 [1,0,0,1,0,0,1,0,0],\n",
        "                 [0,1,0,0,1,0,0,1,0],\n",
        "                 [0,0,1,0,0,1,0,0,1],\n",
        "                 [0.58578,0.82842,0,0.82842,0,0,0,0,0],\n",
        "                 [0,0,1.41421,0,1.41421,0,1.41421,0,0],\n",
        "                 [0,0,0,0,0,0.82842,0,0.82842,0.58578],\n",
        "                 [0,0.82842,0.58578,0,0,0.82842,0,0,0],\n",
        "                 [1.41421,0,0,0,1.41421,0,0,0,1.41421],\n",
        "                 [0,0,0,0.82842,0,0,0.58578,0.82842,0]])\n",
        "#Valores de b\n",
        "b_rc = [8.0, 15.0, 13.0, 6.00, 12.00, 18.00, 3.81, 14.31, 14.79, 10.51, 16.13, 7.04]\n",
        "xstar_rc = np.zeros(9)  "
      ],
      "execution_count": null,
      "outputs": []
    },
    {
      "cell_type": "code",
      "metadata": {
        "colab": {
          "base_uri": "https://localhost:8080/",
          "height": 419
        },
        "id": "XrxJKVWRZ_CY",
        "outputId": "a82fbdf4-1cd1-40d8-ac98-7899bb19c156"
      },
      "source": [
        "tab3 = Algoritmo2(a_rc,b_rc,xstar_rc,45)\n",
        "\n",
        "Tabela3 = pd.DataFrame()\n",
        "\n",
        "#Df apartir de tab1 (resultado do ex1)\n",
        "for i in range (len(tab3)):\n",
        "  Tabela3 = Tabela3.append(tab3[i].tolist())\n",
        "\n",
        "#Renomeando Colunas e resetando o index\n",
        "Tabela3.rename({0:'x1', 1:'x2', 2:'x3', \n",
        "                3:'x4', 4:'x5', 5:'x6',\n",
        "                6:'x7', 7:'x8', 8:'x9'}, inplace=True,axis=1)\n",
        "Tabela3 = Tabela3.reset_index().drop('index',axis=1)\n",
        "Tabela3.round(2)"
      ],
      "execution_count": null,
      "outputs": [
        {
          "output_type": "execute_result",
          "data": {
            "text/html": [
              "<div>\n",
              "<style scoped>\n",
              "    .dataframe tbody tr th:only-of-type {\n",
              "        vertical-align: middle;\n",
              "    }\n",
              "\n",
              "    .dataframe tbody tr th {\n",
              "        vertical-align: top;\n",
              "    }\n",
              "\n",
              "    .dataframe thead th {\n",
              "        text-align: right;\n",
              "    }\n",
              "</style>\n",
              "<table border=\"1\" class=\"dataframe\">\n",
              "  <thead>\n",
              "    <tr style=\"text-align: right;\">\n",
              "      <th></th>\n",
              "      <th>x1</th>\n",
              "      <th>x2</th>\n",
              "      <th>x3</th>\n",
              "      <th>x4</th>\n",
              "      <th>x5</th>\n",
              "      <th>x6</th>\n",
              "      <th>x7</th>\n",
              "      <th>x8</th>\n",
              "      <th>x9</th>\n",
              "    </tr>\n",
              "  </thead>\n",
              "  <tbody>\n",
              "    <tr>\n",
              "      <th>0</th>\n",
              "      <td>0.00</td>\n",
              "      <td>0.00</td>\n",
              "      <td>0.00</td>\n",
              "      <td>0.00</td>\n",
              "      <td>0.00</td>\n",
              "      <td>0.00</td>\n",
              "      <td>0.00</td>\n",
              "      <td>0.00</td>\n",
              "      <td>0.00</td>\n",
              "    </tr>\n",
              "    <tr>\n",
              "      <th>1</th>\n",
              "      <td>2.67</td>\n",
              "      <td>2.67</td>\n",
              "      <td>2.67</td>\n",
              "      <td>0.00</td>\n",
              "      <td>0.00</td>\n",
              "      <td>0.00</td>\n",
              "      <td>0.00</td>\n",
              "      <td>0.00</td>\n",
              "      <td>0.00</td>\n",
              "    </tr>\n",
              "    <tr>\n",
              "      <th>2</th>\n",
              "      <td>2.67</td>\n",
              "      <td>2.67</td>\n",
              "      <td>2.67</td>\n",
              "      <td>5.00</td>\n",
              "      <td>5.00</td>\n",
              "      <td>5.00</td>\n",
              "      <td>0.00</td>\n",
              "      <td>0.00</td>\n",
              "      <td>0.00</td>\n",
              "    </tr>\n",
              "    <tr>\n",
              "      <th>3</th>\n",
              "      <td>2.67</td>\n",
              "      <td>2.67</td>\n",
              "      <td>2.67</td>\n",
              "      <td>5.00</td>\n",
              "      <td>5.00</td>\n",
              "      <td>5.00</td>\n",
              "      <td>4.33</td>\n",
              "      <td>4.33</td>\n",
              "      <td>4.33</td>\n",
              "    </tr>\n",
              "    <tr>\n",
              "      <th>4</th>\n",
              "      <td>0.67</td>\n",
              "      <td>2.67</td>\n",
              "      <td>2.67</td>\n",
              "      <td>3.00</td>\n",
              "      <td>5.00</td>\n",
              "      <td>5.00</td>\n",
              "      <td>2.33</td>\n",
              "      <td>4.33</td>\n",
              "      <td>4.33</td>\n",
              "    </tr>\n",
              "    <tr>\n",
              "      <th>...</th>\n",
              "      <td>...</td>\n",
              "      <td>...</td>\n",
              "      <td>...</td>\n",
              "      <td>...</td>\n",
              "      <td>...</td>\n",
              "      <td>...</td>\n",
              "      <td>...</td>\n",
              "      <td>...</td>\n",
              "      <td>...</td>\n",
              "    </tr>\n",
              "    <tr>\n",
              "      <th>536</th>\n",
              "      <td>2.17</td>\n",
              "      <td>1.44</td>\n",
              "      <td>3.96</td>\n",
              "      <td>1.62</td>\n",
              "      <td>4.37</td>\n",
              "      <td>8.70</td>\n",
              "      <td>1.79</td>\n",
              "      <td>5.88</td>\n",
              "      <td>5.18</td>\n",
              "    </tr>\n",
              "    <tr>\n",
              "      <th>537</th>\n",
              "      <td>2.17</td>\n",
              "      <td>1.44</td>\n",
              "      <td>3.96</td>\n",
              "      <td>1.62</td>\n",
              "      <td>4.37</td>\n",
              "      <td>8.55</td>\n",
              "      <td>1.79</td>\n",
              "      <td>5.72</td>\n",
              "      <td>5.07</td>\n",
              "    </tr>\n",
              "    <tr>\n",
              "      <th>538</th>\n",
              "      <td>2.17</td>\n",
              "      <td>1.40</td>\n",
              "      <td>3.93</td>\n",
              "      <td>1.62</td>\n",
              "      <td>4.37</td>\n",
              "      <td>8.50</td>\n",
              "      <td>1.79</td>\n",
              "      <td>5.72</td>\n",
              "      <td>5.07</td>\n",
              "    </tr>\n",
              "    <tr>\n",
              "      <th>539</th>\n",
              "      <td>2.10</td>\n",
              "      <td>1.40</td>\n",
              "      <td>3.93</td>\n",
              "      <td>1.62</td>\n",
              "      <td>4.30</td>\n",
              "      <td>8.50</td>\n",
              "      <td>1.79</td>\n",
              "      <td>5.72</td>\n",
              "      <td>5.00</td>\n",
              "    </tr>\n",
              "    <tr>\n",
              "      <th>540</th>\n",
              "      <td>2.10</td>\n",
              "      <td>1.40</td>\n",
              "      <td>3.93</td>\n",
              "      <td>1.58</td>\n",
              "      <td>4.30</td>\n",
              "      <td>8.50</td>\n",
              "      <td>1.76</td>\n",
              "      <td>5.68</td>\n",
              "      <td>5.00</td>\n",
              "    </tr>\n",
              "  </tbody>\n",
              "</table>\n",
              "<p>541 rows × 9 columns</p>\n",
              "</div>"
            ],
            "text/plain": [
              "       x1    x2    x3    x4    x5    x6    x7    x8    x9\n",
              "0    0.00  0.00  0.00  0.00  0.00  0.00  0.00  0.00  0.00\n",
              "1    2.67  2.67  2.67  0.00  0.00  0.00  0.00  0.00  0.00\n",
              "2    2.67  2.67  2.67  5.00  5.00  5.00  0.00  0.00  0.00\n",
              "3    2.67  2.67  2.67  5.00  5.00  5.00  4.33  4.33  4.33\n",
              "4    0.67  2.67  2.67  3.00  5.00  5.00  2.33  4.33  4.33\n",
              "..    ...   ...   ...   ...   ...   ...   ...   ...   ...\n",
              "536  2.17  1.44  3.96  1.62  4.37  8.70  1.79  5.88  5.18\n",
              "537  2.17  1.44  3.96  1.62  4.37  8.55  1.79  5.72  5.07\n",
              "538  2.17  1.40  3.93  1.62  4.37  8.50  1.79  5.72  5.07\n",
              "539  2.10  1.40  3.93  1.62  4.30  8.50  1.79  5.72  5.00\n",
              "540  2.10  1.40  3.93  1.58  4.30  8.50  1.76  5.68  5.00\n",
              "\n",
              "[541 rows x 9 columns]"
            ]
          },
          "metadata": {
            "tags": []
          },
          "execution_count": 12
        }
      ]
    },
    {
      "cell_type": "code",
      "metadata": {
        "colab": {
          "base_uri": "https://localhost:8080/",
          "height": 248
        },
        "id": "etjW8pDdamPD",
        "outputId": "5e891943-c3ac-4da1-b606-5ce4bad30f4c"
      },
      "source": [
        "plt.figure(figsize=(4, 4))\n",
        "plt.imshow(MatrizResultado(Tabela3), cmap='gray')\n",
        "plt.axis('off')\n",
        "plt.savefig('Imagem_ex4.png')"
      ],
      "execution_count": null,
      "outputs": [
        {
          "output_type": "display_data",
          "data": {
            "image/png": "[encoded data removed]",
            "text/plain": [
              "<Figure size 288x288 with 1 Axes>"
            ]
          },
          "metadata": {
            "tags": [],
            "needs_background": "light"
          }
        }
      ]
    },
    {
      "cell_type": "markdown",
      "metadata": {
        "id": "DRRJwlrCbFvX"
      },
      "source": [
        "Área"
      ]
    },
    {
      "cell_type": "code",
      "metadata": {
        "id": "BswQ_74WayDs"
      },
      "source": [
        "#Matriz vetor a para o método da Área\n",
        "a_area =np.matrix([[1,1,1,0,0,0,0,0,0],\n",
        "                 [0,0,0,1,1,1,0,0,0],\n",
        "                 [0,0,0,0,0,0,1,1,1],\n",
        "                 [1,0,0,1,0,0,1,0,0],\n",
        "                 [0,1,0,0,1,0,0,1,0],\n",
        "                 [0,0,1,0,0,1,0,0,1],\n",
        "                 [0.61396,0.75,0.04289,0.75,0.04289,0,0.04289,0,0],\n",
        "                 [0,0.25,0.91421,0.25,0.91421,0.25,0.91421,0.25,0],\n",
        "                 [0,0,0.04289,0,0.04289,0.75,0.04289,0.75,0.61396],\n",
        "                 [0.04289,0.75,0.61396,0,0.04289,0.75,0,0,0.04289],\n",
        "                 [0.91421,0.25,0,0.25,0.91421,0.25,0,0.25,0.91421],\n",
        "                 [0.04289,0,0,0.75,0.04289,0,0.61396,0.75,0.04289]])\n",
        "#Valores de b\n",
        "b_area = [8.0, 15.0, 13.0, 6.00, 12.00, 18.00, 3.81, 14.31, 14.79, 10.51, 16.13, 7.04]\n",
        "xstar_area = np.zeros(9)  "
      ],
      "execution_count": null,
      "outputs": []
    },
    {
      "cell_type": "code",
      "metadata": {
        "colab": {
          "base_uri": "https://localhost:8080/",
          "height": 419
        },
        "id": "P7iclG9uf9aV",
        "outputId": "c21f784e-83ae-41df-ce59-ef74479ba4ba"
      },
      "source": [
        "tab4 = Algoritmo2(a_area,b_area,xstar_area,45)\n",
        "\n",
        "Tabela4 = pd.DataFrame()\n",
        "\n",
        "#Df apartir de tab1 (resultado do ex1)\n",
        "for i in range (len(tab4)):\n",
        "  Tabela4 = Tabela4.append(tab4[i].tolist())\n",
        "\n",
        "#Renomeando Colunas e resetando o index\n",
        "Tabela4.rename({0:'x1', 1:'x2', 2:'x3', \n",
        "                3:'x4', 4:'x5', 5:'x6',\n",
        "                6:'x7', 7:'x8', 8:'x9'}, inplace=True,axis=1)\n",
        "Tabela4 = Tabela4.reset_index().drop('index',axis=1)\n",
        "Tabela4.round(2)"
      ],
      "execution_count": null,
      "outputs": [
        {
          "output_type": "execute_result",
          "data": {
            "text/html": [
              "<div>\n",
              "<style scoped>\n",
              "    .dataframe tbody tr th:only-of-type {\n",
              "        vertical-align: middle;\n",
              "    }\n",
              "\n",
              "    .dataframe tbody tr th {\n",
              "        vertical-align: top;\n",
              "    }\n",
              "\n",
              "    .dataframe thead th {\n",
              "        text-align: right;\n",
              "    }\n",
              "</style>\n",
              "<table border=\"1\" class=\"dataframe\">\n",
              "  <thead>\n",
              "    <tr style=\"text-align: right;\">\n",
              "      <th></th>\n",
              "      <th>x1</th>\n",
              "      <th>x2</th>\n",
              "      <th>x3</th>\n",
              "      <th>x4</th>\n",
              "      <th>x5</th>\n",
              "      <th>x6</th>\n",
              "      <th>x7</th>\n",
              "      <th>x8</th>\n",
              "      <th>x9</th>\n",
              "    </tr>\n",
              "  </thead>\n",
              "  <tbody>\n",
              "    <tr>\n",
              "      <th>0</th>\n",
              "      <td>0.00</td>\n",
              "      <td>0.00</td>\n",
              "      <td>0.00</td>\n",
              "      <td>0.0</td>\n",
              "      <td>0.0</td>\n",
              "      <td>0.0</td>\n",
              "      <td>0.00</td>\n",
              "      <td>0.00</td>\n",
              "      <td>0.00</td>\n",
              "    </tr>\n",
              "    <tr>\n",
              "      <th>1</th>\n",
              "      <td>2.67</td>\n",
              "      <td>2.67</td>\n",
              "      <td>2.67</td>\n",
              "      <td>0.0</td>\n",
              "      <td>0.0</td>\n",
              "      <td>0.0</td>\n",
              "      <td>0.00</td>\n",
              "      <td>0.00</td>\n",
              "      <td>0.00</td>\n",
              "    </tr>\n",
              "    <tr>\n",
              "      <th>2</th>\n",
              "      <td>2.67</td>\n",
              "      <td>2.67</td>\n",
              "      <td>2.67</td>\n",
              "      <td>5.0</td>\n",
              "      <td>5.0</td>\n",
              "      <td>5.0</td>\n",
              "      <td>0.00</td>\n",
              "      <td>0.00</td>\n",
              "      <td>0.00</td>\n",
              "    </tr>\n",
              "    <tr>\n",
              "      <th>3</th>\n",
              "      <td>2.67</td>\n",
              "      <td>2.67</td>\n",
              "      <td>2.67</td>\n",
              "      <td>5.0</td>\n",
              "      <td>5.0</td>\n",
              "      <td>5.0</td>\n",
              "      <td>4.33</td>\n",
              "      <td>4.33</td>\n",
              "      <td>4.33</td>\n",
              "    </tr>\n",
              "    <tr>\n",
              "      <th>4</th>\n",
              "      <td>0.67</td>\n",
              "      <td>2.67</td>\n",
              "      <td>2.67</td>\n",
              "      <td>3.0</td>\n",
              "      <td>5.0</td>\n",
              "      <td>5.0</td>\n",
              "      <td>2.33</td>\n",
              "      <td>4.33</td>\n",
              "      <td>4.33</td>\n",
              "    </tr>\n",
              "    <tr>\n",
              "      <th>...</th>\n",
              "      <td>...</td>\n",
              "      <td>...</td>\n",
              "      <td>...</td>\n",
              "      <td>...</td>\n",
              "      <td>...</td>\n",
              "      <td>...</td>\n",
              "      <td>...</td>\n",
              "      <td>...</td>\n",
              "      <td>...</td>\n",
              "    </tr>\n",
              "    <tr>\n",
              "      <th>536</th>\n",
              "      <td>3.00</td>\n",
              "      <td>0.99</td>\n",
              "      <td>4.01</td>\n",
              "      <td>1.0</td>\n",
              "      <td>5.0</td>\n",
              "      <td>9.0</td>\n",
              "      <td>2.00</td>\n",
              "      <td>6.00</td>\n",
              "      <td>5.00</td>\n",
              "    </tr>\n",
              "    <tr>\n",
              "      <th>537</th>\n",
              "      <td>3.00</td>\n",
              "      <td>0.99</td>\n",
              "      <td>4.01</td>\n",
              "      <td>1.0</td>\n",
              "      <td>5.0</td>\n",
              "      <td>9.0</td>\n",
              "      <td>2.00</td>\n",
              "      <td>6.00</td>\n",
              "      <td>5.00</td>\n",
              "    </tr>\n",
              "    <tr>\n",
              "      <th>538</th>\n",
              "      <td>3.00</td>\n",
              "      <td>0.99</td>\n",
              "      <td>4.01</td>\n",
              "      <td>1.0</td>\n",
              "      <td>5.0</td>\n",
              "      <td>9.0</td>\n",
              "      <td>2.00</td>\n",
              "      <td>6.00</td>\n",
              "      <td>5.00</td>\n",
              "    </tr>\n",
              "    <tr>\n",
              "      <th>539</th>\n",
              "      <td>3.00</td>\n",
              "      <td>0.99</td>\n",
              "      <td>4.01</td>\n",
              "      <td>1.0</td>\n",
              "      <td>5.0</td>\n",
              "      <td>9.0</td>\n",
              "      <td>2.00</td>\n",
              "      <td>6.00</td>\n",
              "      <td>5.00</td>\n",
              "    </tr>\n",
              "    <tr>\n",
              "      <th>540</th>\n",
              "      <td>3.00</td>\n",
              "      <td>0.99</td>\n",
              "      <td>4.01</td>\n",
              "      <td>1.0</td>\n",
              "      <td>5.0</td>\n",
              "      <td>9.0</td>\n",
              "      <td>2.00</td>\n",
              "      <td>6.00</td>\n",
              "      <td>5.00</td>\n",
              "    </tr>\n",
              "  </tbody>\n",
              "</table>\n",
              "<p>541 rows × 9 columns</p>\n",
              "</div>"
            ],
            "text/plain": [
              "       x1    x2    x3   x4   x5   x6    x7    x8    x9\n",
              "0    0.00  0.00  0.00  0.0  0.0  0.0  0.00  0.00  0.00\n",
              "1    2.67  2.67  2.67  0.0  0.0  0.0  0.00  0.00  0.00\n",
              "2    2.67  2.67  2.67  5.0  5.0  5.0  0.00  0.00  0.00\n",
              "3    2.67  2.67  2.67  5.0  5.0  5.0  4.33  4.33  4.33\n",
              "4    0.67  2.67  2.67  3.0  5.0  5.0  2.33  4.33  4.33\n",
              "..    ...   ...   ...  ...  ...  ...   ...   ...   ...\n",
              "536  3.00  0.99  4.01  1.0  5.0  9.0  2.00  6.00  5.00\n",
              "537  3.00  0.99  4.01  1.0  5.0  9.0  2.00  6.00  5.00\n",
              "538  3.00  0.99  4.01  1.0  5.0  9.0  2.00  6.00  5.00\n",
              "539  3.00  0.99  4.01  1.0  5.0  9.0  2.00  6.00  5.00\n",
              "540  3.00  0.99  4.01  1.0  5.0  9.0  2.00  6.00  5.00\n",
              "\n",
              "[541 rows x 9 columns]"
            ]
          },
          "metadata": {
            "tags": []
          },
          "execution_count": 21
        }
      ]
    },
    {
      "cell_type": "code",
      "metadata": {
        "colab": {
          "base_uri": "https://localhost:8080/",
          "height": 248
        },
        "id": "p4oFWTczgBB3",
        "outputId": "5f36c059-1057-4841-a647-8999464e2ab6"
      },
      "source": [
        "plt.figure(figsize=(4, 4))\n",
        "plt.imshow(MatrizResultado(Tabela4), cmap='gray')\n",
        "plt.axis('off')\n",
        "plt.savefig('Imagem_ex4.png')"
      ],
      "execution_count": null,
      "outputs": [
        {
          "output_type": "display_data",
          "data": {
            "image/png": "[encoded data removed]",
            "text/plain": [
              "<Figure size 288x288 with 1 Axes>"
            ]
          },
          "metadata": {
            "tags": [],
            "needs_background": "light"
          }
        }
      ]
    },
    {
      "cell_type": "markdown",
      "metadata": {
        "id": "8X4cVbD0gm6C"
      },
      "source": [
        "todas juntas"
      ]
    },
    {
      "cell_type": "code",
      "metadata": {
        "colab": {
          "base_uri": "https://localhost:8080/",
          "height": 309
        },
        "id": "XTWYkfpXgmTe",
        "outputId": "bbd00bd3-eb96-4802-f94b-e31f257a0fa9"
      },
      "source": [
        "fig, (ax0, ax1, ax2) = plt.subplots(nrows=1, ncols=3, figsize=(16, 6),\n",
        "                               sharex=True, sharey=True)\n",
        "\n",
        "ax0.imshow(MatrizResultado(Tabela2), cmap=plt.cm.gray)\n",
        "ax0.axis('off')\n",
        "ax0.set_title('Centro do Pixel')\n",
        "ax1.imshow(MatrizResultado(Tabela3), cmap=plt.cm.gray)\n",
        "ax1.set_title('Reta Central')\n",
        "ax1.axis('off')\n",
        "ax2.imshow(MatrizResultado(Tabela4), cmap=plt.cm.gray)\n",
        "ax2.set_title('Area')\n",
        "ax2.axis('off')\n",
        "\n",
        "plt.show()"
      ],
      "execution_count": null,
      "outputs": [
        {
          "output_type": "display_data",
          "data": {
            "image/png": "[encoded data removed]",
            "text/plain": [
              "<Figure size 1152x432 with 3 Axes>"
            ]
          },
          "metadata": {
            "tags": [],
            "needs_background": "light"
          }
        }
      ]
    },
    {
      "cell_type": "code",
      "metadata": {
        "id": "LfceoxgjgYwm"
      },
      "source": [
        ""
      ],
      "execution_count": null,
      "outputs": []
    }
  ]
}