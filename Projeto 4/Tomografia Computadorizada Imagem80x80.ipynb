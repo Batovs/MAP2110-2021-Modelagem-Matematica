{
  "nbformat": 4,
  "nbformat_minor": 0,
  "metadata": {
    "colab": {
      "name": "MAP2110 - Projeto 4 - Tomografia Computadorizada - Imagem80x80",
      "provenance": [],
      "include_colab_link": true
    },
    "kernelspec": {
      "display_name": "Python 3",
      "name": "python3"
    },
    "language_info": {
      "name": "python"
    }
  },
  "cells": [
    {
      "cell_type": "markdown",
      "metadata": {
        "id": "view-in-github",
        "colab_type": "text"
      },
      "source": [
        "<a href=\"https://colab.research.google.com/github/Batovs/MAP2110-2021-Modelagem-Matematica/blob/main/Projeto%204/Tomografia%20Computadorizada%20Imagem80x80.ipynb\" target=\"_parent\"><img src=\"https://colab.research.google.com/assets/colab-badge.svg\" alt=\"Open In Colab\"/></a>"
      ]
    },
    {
      "cell_type": "code",
      "metadata": {
        "id": "VgrW4VLLz3Eh"
      },
      "source": [
        "import numpy as np\n",
        "import pandas as pd\n",
        "from skimage import io\n",
        "from skimage import data\n",
        "import matplotlib.pyplot as plt\n",
        "import math\n",
        "from scipy import sparse\n",
        "from scipy.sparse import csr_matrix\n",
        "  "
      ],
      "execution_count": null,
      "outputs": []
    },
    {
      "cell_type": "code",
      "metadata": {
        "id": "-45o8TcH1ZyV"
      },
      "source": [
        "def ProjecaoOrtogonal (a,b,x_star):\n",
        "  #Função para achar o ponto ortogonal entre a reta ax = b e o ponto x*\n",
        "  num = b - (np.dot(a.T,x_star))\n",
        "  den = np.dot(a.T,a)\n",
        "\n",
        "  xp = x_star + num/den*a\n",
        "\n",
        "  return xp"
      ],
      "execution_count": null,
      "outputs": []
    },
    {
      "cell_type": "code",
      "metadata": {
        "id": "q0aTYY-V1dmb"
      },
      "source": [
        "def Algoritmo2 (a,b,xstar,n):\n",
        "  \n",
        "  lenb = len(b)\n",
        "  xstarC = np.atleast_2d(xstar).T #lista em vetor coluna\n",
        "  x0 = ProjecaoOrtogonal(np.array(a[0].T),b[0],xstarC)\n",
        "\n",
        "  for j in range(n):\n",
        "    for i in range (lenb):\n",
        "      x0 = ProjecaoOrtogonal(np.array(a[i].T),b[i],x0)\n",
        "   \n",
        "  \n",
        "  return x0.T"
      ],
      "execution_count": null,
      "outputs": []
    },
    {
      "cell_type": "code",
      "metadata": {
        "id": "DyKIPFwX1o09"
      },
      "source": [
        "def MatrizResultado(tab_df):\n",
        "  \n",
        "  tab_df = pd.DataFrame(tab_df) #Para Funcionar com df ou array\n",
        "  resultado = tab_df.tail(1)\n",
        "  len_tab = len(resultado.iloc[0])\n",
        "  n = int(math.sqrt(len_tab))\n",
        "  saida = np.zeros((n,n))\n",
        "\n",
        "  #Resultados em Matriz Quadrada n por n\n",
        "  for i in range (n):\n",
        "    for j in range (n):\n",
        "      saida[i][j] = resultado.iloc[0][i*n + j]\n",
        "\n",
        "  return saida"
      ],
      "execution_count": null,
      "outputs": []
    },
    {
      "cell_type": "code",
      "metadata": {
        "id": "rm4jq4la3Dk7"
      },
      "source": [
        "def CriaListab(matriz_a,imagem_np):\n",
        "  len_img = len(imagem_np)\n",
        "  pixel = len_img*len_img #n pixel para imagem quadrada\n",
        "  vetor_pixel = [] #inicial\n",
        "  for i in range (len_img):\n",
        "    for j in range (len_img):\n",
        "      vetor_pixel.append(imagem_np[i][j])\n",
        "  vetor_pixel = np.array(vetor_pixel)\n",
        "\n",
        "  b = []\n",
        "  for k in range(len(matriz_a)):\n",
        "    res = np.array(matriz_a[k])*vetor_pixel\n",
        "    b.append(res.sum())\n",
        "\n",
        "  return b\n"
      ],
      "execution_count": null,
      "outputs": []
    },
    {
      "cell_type": "code",
      "metadata": {
        "id": "pQ4vXAnx2auJ"
      },
      "source": [
        "def CriaVetp(matriz_a,imagem_np):\n",
        "  len_img = len(imagem_np)\n",
        "  pixel = len_img*len_img #n pixel para imagem quadrada\n",
        "  vetor_pixel = [] #inicial\n",
        "  for i in range (len_img):\n",
        "    for j in range (len_img):\n",
        "      vetor_pixel.append(imagem_np[i][j])\n",
        "  vetor_pixel = np.array(vetor_pixel)\n",
        "\n",
        "\n",
        "  return vetor_pixel"
      ],
      "execution_count": null,
      "outputs": []
    },
    {
      "cell_type": "code",
      "metadata": {
        "colab": {
          "base_uri": "https://localhost:8080/"
        },
        "id": "D5kR1XsT1xIy",
        "outputId": "b30e6e34-9990-4a07-ce8a-041acf711a49"
      },
      "source": [
        "matriz_a_80_csr = sparse.load_npz('matriz_a_80_csr.npz')\n",
        "matriz_a_80 = matriz_a_80_csr.todense()\n",
        "matriz_a_80.shape"
      ],
      "execution_count": null,
      "outputs": [
        {
          "output_type": "execute_result",
          "data": {
            "text/plain": [
              "(478, 6400)"
            ]
          },
          "metadata": {
            "tags": []
          },
          "execution_count": 81
        }
      ]
    },
    {
      "cell_type": "markdown",
      "metadata": {
        "id": "kIA9vpNm3Tu7"
      },
      "source": [
        "Teste Imagem\n"
      ]
    },
    {
      "cell_type": "code",
      "metadata": {
        "colab": {
          "base_uri": "https://localhost:8080/",
          "height": 357
        },
        "id": "vhKrbG463VNS",
        "outputId": "083021fb-8aae-40fa-b62e-3f0b2b9e2f78"
      },
      "source": [
        "#Crop imagem camera em 80x80\n",
        "camera = data.camera()\n",
        "camera80 = np.zeros((80,80))\n",
        "for i in range(80):\n",
        "  for j in range(80):\n",
        "    camera80[i][j]= camera[300+i][300+j]\n",
        "\n",
        "\n",
        "plt.figure(figsize=(6, 6))\n",
        "plt.imshow(camera80, cmap='gray')\n",
        "plt.axis('off')\n",
        "\n",
        "plt.show()"
      ],
      "execution_count": null,
      "outputs": [
        {
          "output_type": "display_data",
          "data": {
            "image/png": "[encoded data removed]",
            "text/plain": [
              "<Figure size 432x432 with 1 Axes>"
            ]
          },
          "metadata": {
            "tags": [],
            "needs_background": "light"
          }
        }
      ]
    },
    {
      "cell_type": "code",
      "metadata": {
        "colab": {
          "base_uri": "https://localhost:8080/"
        },
        "id": "j9HlWVHgSDpu",
        "outputId": "45d55f64-f61a-437c-8e05-cc21d7fb588b"
      },
      "source": [
        "camera80"
      ],
      "execution_count": null,
      "outputs": [
        {
          "output_type": "execute_result",
          "data": {
            "text/plain": [
              "array([[255., 255., 255., ...,   0.,   0.,   0.],\n",
              "       [255., 255., 255., ...,   0.,   0.,   0.],\n",
              "       [255., 255., 255., ...,   0.,   0.,   0.],\n",
              "       ...,\n",
              "       [  0.,   0.,   0., ..., 255., 255., 255.],\n",
              "       [  0.,   0.,   0., ..., 255., 255., 255.],\n",
              "       [  0.,   0.,   0., ..., 255., 255., 255.]])"
            ]
          },
          "metadata": {
            "tags": []
          },
          "execution_count": 11
        }
      ]
    },
    {
      "cell_type": "code",
      "metadata": {
        "colab": {
          "base_uri": "https://localhost:8080/"
        },
        "id": "TSLX7CIdTa8e",
        "outputId": "29458c97-498f-4dbe-fbe1-ea0f03db1654"
      },
      "source": [
        "matriz_a_teste = matriz_a_80\n",
        "b_teste = CriaListab(matriz_a_teste,camera80)\n",
        "x_teste = np.zeros(matriz_a_teste.shape[1])\n",
        "#x_teste = np.random.randint(0,255,size=(matriz_a_teste.shape[1]))\n",
        "#x_teste = CriaVetp(matriz_a_teste,camera80)\n",
        "teste80 = Algoritmo2(matriz_a_teste,b_teste,x_teste,50)\n",
        "teste80"
      ],
      "execution_count": null,
      "outputs": [
        {
          "output_type": "execute_result",
          "data": {
            "text/plain": [
              "array([[141.        , 133.675     , 127.74906517, ..., 116.20488782,\n",
              "        123.        , 126.        ]])"
            ]
          },
          "metadata": {
            "tags": []
          },
          "execution_count": 103
        }
      ]
    },
    {
      "cell_type": "code",
      "metadata": {
        "id": "S37E3ogw4BW0"
      },
      "source": [
        "teste80_df = pd.DataFrame(teste80[-1]).T\n",
        "teste80img = MatrizResultado(teste80_df)\n"
      ],
      "execution_count": null,
      "outputs": []
    },
    {
      "cell_type": "code",
      "metadata": {
        "colab": {
          "base_uri": "https://localhost:8080/",
          "height": 373
        },
        "id": "mKuwpE2c4p8r",
        "outputId": "dbeb5c5d-1636-4cc3-dbdb-2bd65ced6e7e"
      },
      "source": [
        "fig, (ax0, ax1) = plt.subplots(nrows=1, ncols=2, figsize=(16, 6),\n",
        "                               sharex=True, sharey=True)\n",
        "\n",
        "ax0.imshow(camera80, cmap=plt.cm.gray)\n",
        "ax0.axis('off')\n",
        "ax0.set_title('Original')\n",
        "ax1.imshow(teste80img, cmap=plt.cm.gray)\n",
        "ax1.set_title('Gerada')\n",
        "ax1.axis('off')\n",
        "\n",
        "#plt.show()\n",
        "plt.savefig('xadrez0.png')"
      ],
      "execution_count": null,
      "outputs": [
        {
          "output_type": "display_data",
          "data": {
            "image/png": "[encoded data removed]",
            "text/plain": [
              "<Figure size 1152x432 with 2 Axes>"
            ]
          },
          "metadata": {
            "tags": [],
            "needs_background": "light"
          }
        }
      ]
    },
    {
      "cell_type": "code",
      "metadata": {
        "id": "CmSPky5vwV1R"
      },
      "source": [
        "def cria_matriz_a_diagonal_1(n): # imagem n x n , com n*n pixels\n",
        "  colunas = n*n\n",
        "  linhas = (n-1)*2+1\n",
        "  salto = n-1\n",
        "\n",
        "  matriz = np.zeros((linhas, colunas))\n",
        "\n",
        "  for i in range(int(linhas/2)+1):\n",
        "    matriz[i][i] = 1\n",
        "    for j in range(i):\n",
        "      matriz[i][i+(j+1)*salto] = 1\n",
        "  \n",
        "  for i in range(int(linhas/2)+1, linhas):\n",
        "    for j in range(colunas):\n",
        "      matriz[i][j] = matriz[linhas-i-1][colunas-j-1]\n",
        "\n",
        "  return matriz"
      ],
      "execution_count": null,
      "outputs": []
    },
    {
      "cell_type": "markdown",
      "metadata": {
        "id": "yD6S9ko1-llf"
      },
      "source": [
        "Diagonal \\\\\\"
      ]
    },
    {
      "cell_type": "code",
      "metadata": {
        "id": "wvhOcPnvA1Xv"
      },
      "source": [
        "def cria_matriz_a_diagonal_2(n): # imagem n x n , com n*n pixels\n",
        "  colunas = n*n\n",
        "  linhas = (n-1)*2+1\n",
        "  salto = n+1\n",
        "\n",
        "  matriz = np.zeros((linhas, colunas))\n",
        "\n",
        "  for i in range(int(linhas/2)+1):\n",
        "    matriz[i][n-1-i] = 1\n",
        "    for j in range(i):\n",
        "      matriz[i][n-1-i+(j+1)*salto] = 1\n",
        "  \n",
        "  for i in range(int(linhas/2)+1, linhas):\n",
        "    for j in range(colunas):\n",
        "      matriz[i][j] = matriz[linhas-i-1][colunas-j-1]\n",
        "\n",
        "  return matriz"
      ],
      "execution_count": null,
      "outputs": []
    },
    {
      "cell_type": "markdown",
      "metadata": {
        "id": "VqhopOYUWI9b"
      },
      "source": [
        "Vertical ||"
      ]
    },
    {
      "cell_type": "code",
      "metadata": {
        "id": "9QmEhRloWIR4"
      },
      "source": [
        "def cria_matriz_a_vertical(n): # imagem n x n , com n*n pixels\n",
        "  linhas = n\n",
        "  colunas = n*n\n",
        "  salto = n\n",
        "\n",
        "  matriz = np.zeros((linhas, colunas))\n",
        "\n",
        "  for i in range(linhas):\n",
        "    for j in range(linhas):\n",
        "      matriz[i][i+salto*j] = 1\n",
        "  \n",
        "  return matriz"
      ],
      "execution_count": null,
      "outputs": []
    },
    {
      "cell_type": "markdown",
      "metadata": {
        "id": "l3MpuGFNW5in"
      },
      "source": [
        "Horizontal ="
      ]
    },
    {
      "cell_type": "code",
      "metadata": {
        "id": "kCfVGNSOW9BX"
      },
      "source": [
        "def cria_matriz_a_horizontal(n): # imagem n x n , com n*n pixels\n",
        "  linhas = n\n",
        "  colunas = n*n\n",
        "  salto = n\n",
        "\n",
        "  matriz = np.zeros((linhas, colunas))\n",
        "\n",
        "  for i in range(linhas):\n",
        "    for j in range(linhas):\n",
        "      matriz[i][salto*i+j] = 1\n",
        "  \n",
        "  return matriz"
      ],
      "execution_count": null,
      "outputs": []
    },
    {
      "cell_type": "code",
      "metadata": {
        "id": "Gf8OI1BwbKQC"
      },
      "source": [
        "def cria_matriz_a(n):\n",
        "  md1 = cria_matriz_a_diagonal_1(n)\n",
        "  md2 = cria_matriz_a_diagonal_2(n)\n",
        "  mv = cria_matriz_a_vertical(n)\n",
        "  mh = cria_matriz_a_horizontal(n)\n",
        "  matriz_a = np.concatenate((md1,md2,mv,mh))\n",
        "  return (np.asmatrix(matriz_a))"
      ],
      "execution_count": null,
      "outputs": []
    },
    {
      "cell_type": "code",
      "metadata": {
        "id": "JZRDK8o5JFYM"
      },
      "source": [
        "m200peso = cria_matriz_a(400)"
      ],
      "execution_count": null,
      "outputs": []
    },
    {
      "cell_type": "markdown",
      "metadata": {
        "id": "JoxWYBOTuWmI"
      },
      "source": [
        "Deletar matrizes"
      ]
    },
    {
      "cell_type": "code",
      "metadata": {
        "id": "rHAvQKP_uUYV"
      },
      "source": [
        "del m80peso\n",
        "#del md1\n",
        "#del matriz_a_vertical\n",
        "#del matriz_a_horizontal"
      ],
      "execution_count": null,
      "outputs": []
    },
    {
      "cell_type": "code",
      "metadata": {
        "id": "nbImZEz5KHRO"
      },
      "source": [
        ""
      ],
      "execution_count": null,
      "outputs": []
    }
  ]
}